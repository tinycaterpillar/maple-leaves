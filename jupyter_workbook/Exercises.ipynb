{
 "cells": [
  {
   "cell_type": "markdown",
   "id": "9986565c",
   "metadata": {},
   "source": [
    "# Exercises\n",
    "\n",
    "Most of the source code is from https://github.com/rougier/numpy-100"
   ]
  },
  {
   "cell_type": "markdown",
   "id": "515b02c0",
   "metadata": {},
   "source": [
    "File automatically generated. See the documentation to update questions/answers/hints programmatically."
   ]
  },
  {
   "cell_type": "markdown",
   "id": "5da688f6",
   "metadata": {},
   "source": [
    "Run the `initialize.py` module, then for each question you can query the\n",
    "answer or an hint with `hint(n)` or `answer(n)` for `n` question number."
   ]
  },
  {
   "cell_type": "markdown",
   "id": "1e91e018",
   "metadata": {},
   "source": [
    "### Jupyter shortcuts for your mouseless control\n",
    "Command Mode (press `Esc` to enable)  \n",
    "`Enter` : enter edit mode  \n",
    "`Shift-Enter` : run cell, select below  \n",
    "`Ctrl-Enter` : run cell  \n",
    "`Alt-Enter` : run cell, insert below\n",
    "\n",
    "Edit Mode (press `Enter` to enable)  \n",
    "`Esc` : command mode  \n",
    "`Shift-Enter` : run cell, select below  \n",
    "`Ctrl-Enter` : run cell  \n",
    "`Tab` : code completion or indent  \n",
    "`Ctrl-A` : select all"
   ]
  },
  {
   "cell_type": "code",
   "execution_count": null,
   "id": "baf1585b",
   "metadata": {},
   "outputs": [],
   "source": [
    "%run initialise.py"
   ]
  },
  {
   "cell_type": "markdown",
   "id": "337f9b6b",
   "metadata": {},
   "source": [
    "#### 1. Import the numpy package under the name `np` (★☆☆)"
   ]
  },
  {
   "cell_type": "code",
   "execution_count": null,
   "id": "6e0e649e",
   "metadata": {},
   "outputs": [],
   "source": []
  },
  {
   "cell_type": "code",
   "execution_count": null,
   "id": "6dad879c",
   "metadata": {},
   "outputs": [],
   "source": [
    "answer(1)"
   ]
  },
  {
   "cell_type": "markdown",
   "id": "33d110d0",
   "metadata": {},
   "source": [
    "#### 2. Print the numpy version and the configuration (★☆☆)"
   ]
  },
  {
   "cell_type": "code",
   "execution_count": null,
   "id": "ba2c29dc",
   "metadata": {},
   "outputs": [],
   "source": []
  },
  {
   "cell_type": "code",
   "execution_count": null,
   "id": "4f5f6565",
   "metadata": {},
   "outputs": [],
   "source": [
    "answer(2)"
   ]
  },
  {
   "cell_type": "markdown",
   "id": "78600dd8",
   "metadata": {},
   "source": [
    "#### 3. Create a null vector of size 10 (★☆☆)"
   ]
  },
  {
   "cell_type": "code",
   "execution_count": null,
   "id": "79e0a3e7",
   "metadata": {},
   "outputs": [],
   "source": []
  },
  {
   "cell_type": "code",
   "execution_count": null,
   "id": "d98d7240",
   "metadata": {},
   "outputs": [],
   "source": [
    "answer(3)"
   ]
  },
  {
   "cell_type": "markdown",
   "id": "affe8c1e",
   "metadata": {},
   "source": [
    "#### 4. How to find the memory size of any array (★☆☆)"
   ]
  },
  {
   "cell_type": "code",
   "execution_count": null,
   "id": "d1e00809",
   "metadata": {},
   "outputs": [],
   "source": []
  },
  {
   "cell_type": "code",
   "execution_count": null,
   "id": "f603e99f",
   "metadata": {},
   "outputs": [],
   "source": [
    "answer(4)"
   ]
  },
  {
   "cell_type": "markdown",
   "id": "67214c5f",
   "metadata": {},
   "source": [
    "#### 5. How to get the documentation of the numpy add function from the command line? (★☆☆)"
   ]
  },
  {
   "cell_type": "code",
   "execution_count": null,
   "id": "85cbed52",
   "metadata": {},
   "outputs": [],
   "source": []
  },
  {
   "cell_type": "code",
   "execution_count": null,
   "id": "fd995c62",
   "metadata": {},
   "outputs": [],
   "source": [
    "answer(5)"
   ]
  },
  {
   "cell_type": "markdown",
   "id": "468d3c9a",
   "metadata": {},
   "source": [
    "#### 6. Create a null vector of size 10 but the fifth value which is 1 (★☆☆)"
   ]
  },
  {
   "cell_type": "code",
   "execution_count": null,
   "id": "432e8be6",
   "metadata": {},
   "outputs": [],
   "source": []
  },
  {
   "cell_type": "code",
   "execution_count": null,
   "id": "73997e54",
   "metadata": {},
   "outputs": [],
   "source": [
    "answer(6)"
   ]
  },
  {
   "cell_type": "markdown",
   "id": "afc14b46",
   "metadata": {},
   "source": [
    "#### 7. Create a vector with values ranging from 10 to 49 (★☆☆)"
   ]
  },
  {
   "cell_type": "code",
   "execution_count": null,
   "id": "72723763",
   "metadata": {},
   "outputs": [],
   "source": []
  },
  {
   "cell_type": "code",
   "execution_count": null,
   "id": "fbbd0344",
   "metadata": {},
   "outputs": [],
   "source": [
    "answer(7)"
   ]
  },
  {
   "cell_type": "markdown",
   "id": "5aade9f7",
   "metadata": {},
   "source": [
    "#### 8. Reverse a vector (first element becomes last) (★☆☆)"
   ]
  },
  {
   "cell_type": "code",
   "execution_count": null,
   "id": "932ba2ae",
   "metadata": {},
   "outputs": [],
   "source": []
  },
  {
   "cell_type": "code",
   "execution_count": null,
   "id": "b38288c7",
   "metadata": {},
   "outputs": [],
   "source": [
    "answer(8)"
   ]
  },
  {
   "cell_type": "markdown",
   "id": "47498801",
   "metadata": {},
   "source": [
    "#### 9. Create a 3x3 matrix with values ranging from 0 to 8 (★☆☆)"
   ]
  },
  {
   "cell_type": "code",
   "execution_count": null,
   "id": "d8498e2d",
   "metadata": {},
   "outputs": [],
   "source": []
  },
  {
   "cell_type": "code",
   "execution_count": null,
   "id": "f2acb216",
   "metadata": {},
   "outputs": [],
   "source": [
    "answer(9)"
   ]
  },
  {
   "cell_type": "markdown",
   "id": "5e03bc19",
   "metadata": {},
   "source": [
    "#### 10. Find indices of non-zero elements from [1,2,0,0,4,0] (★☆☆)"
   ]
  },
  {
   "cell_type": "code",
   "execution_count": null,
   "id": "205e59c6",
   "metadata": {},
   "outputs": [],
   "source": []
  },
  {
   "cell_type": "code",
   "execution_count": null,
   "id": "1271c28d",
   "metadata": {},
   "outputs": [],
   "source": [
    "answer(10)"
   ]
  },
  {
   "cell_type": "markdown",
   "id": "35198ab8",
   "metadata": {},
   "source": [
    "#### 11. Create a 3x3 identity matrix (★☆☆)"
   ]
  },
  {
   "cell_type": "code",
   "execution_count": null,
   "id": "f6c4bdc2",
   "metadata": {},
   "outputs": [],
   "source": []
  },
  {
   "cell_type": "code",
   "execution_count": null,
   "id": "731e088f",
   "metadata": {},
   "outputs": [],
   "source": [
    "answer(11)"
   ]
  },
  {
   "cell_type": "markdown",
   "id": "b025f7b3",
   "metadata": {},
   "source": [
    "#### 12. Create a 3x3x3 array with random values (★☆☆)"
   ]
  },
  {
   "cell_type": "code",
   "execution_count": null,
   "id": "179a1ebc",
   "metadata": {},
   "outputs": [],
   "source": []
  },
  {
   "cell_type": "code",
   "execution_count": null,
   "id": "8ae76785",
   "metadata": {},
   "outputs": [],
   "source": [
    "answer(12)"
   ]
  },
  {
   "cell_type": "markdown",
   "id": "fb2e9493",
   "metadata": {},
   "source": [
    "#### 13. Create a 10x10 array with random values and find the minimum and maximum values (★☆☆)"
   ]
  },
  {
   "cell_type": "code",
   "execution_count": null,
   "id": "cf23ae9b",
   "metadata": {},
   "outputs": [],
   "source": []
  },
  {
   "cell_type": "code",
   "execution_count": null,
   "id": "8dc83e06",
   "metadata": {},
   "outputs": [],
   "source": [
    "answer(13)"
   ]
  },
  {
   "cell_type": "markdown",
   "id": "cb3f65f6",
   "metadata": {},
   "source": [
    "#### 14. Create a random vector of size 30 and find the mean value (★☆☆)"
   ]
  },
  {
   "cell_type": "code",
   "execution_count": null,
   "id": "bd58cb9a",
   "metadata": {},
   "outputs": [],
   "source": []
  },
  {
   "cell_type": "code",
   "execution_count": null,
   "id": "c8702711",
   "metadata": {},
   "outputs": [],
   "source": [
    "answer(14)"
   ]
  },
  {
   "cell_type": "markdown",
   "id": "4bac5987",
   "metadata": {},
   "source": [
    "#### 15. Create a 2d array with 1 on the border and 0 inside (★☆☆)"
   ]
  },
  {
   "cell_type": "code",
   "execution_count": null,
   "id": "191f6b6e",
   "metadata": {},
   "outputs": [],
   "source": []
  },
  {
   "cell_type": "code",
   "execution_count": null,
   "id": "58fb7f4d",
   "metadata": {},
   "outputs": [],
   "source": [
    "answer(15)"
   ]
  },
  {
   "cell_type": "markdown",
   "id": "d7559887",
   "metadata": {},
   "source": [
    "#### 16. How to add a border (filled with 0's) around an existing array? (★☆☆)"
   ]
  },
  {
   "cell_type": "code",
   "execution_count": null,
   "id": "b61acf95",
   "metadata": {},
   "outputs": [],
   "source": []
  },
  {
   "cell_type": "code",
   "execution_count": null,
   "id": "3382986a",
   "metadata": {},
   "outputs": [],
   "source": [
    "answer(16)"
   ]
  },
  {
   "cell_type": "markdown",
   "id": "507aef52",
   "metadata": {},
   "source": [
    "#### 17. What is the result of the following expression? (★☆☆)\n",
    "```python\n",
    "0 * np.nan\n",
    "np.nan == np.nan\n",
    "np.inf > np.nan\n",
    "np.nan - np.nan\n",
    "np.nan in set([np.nan])\n",
    "0.3 == 3 * 0.1\n",
    "```"
   ]
  },
  {
   "cell_type": "code",
   "execution_count": null,
   "id": "3affa995",
   "metadata": {},
   "outputs": [],
   "source": []
  },
  {
   "cell_type": "code",
   "execution_count": null,
   "id": "93cda618",
   "metadata": {},
   "outputs": [],
   "source": [
    "answer(17)"
   ]
  },
  {
   "cell_type": "markdown",
   "id": "0f7713c9",
   "metadata": {},
   "source": [
    "#### 18. Create a 5x5 matrix with values 1,2,3,4 just below the diagonal (★☆☆)"
   ]
  },
  {
   "cell_type": "code",
   "execution_count": null,
   "id": "5ca2507c",
   "metadata": {},
   "outputs": [],
   "source": []
  },
  {
   "cell_type": "code",
   "execution_count": null,
   "id": "0dea38a5",
   "metadata": {},
   "outputs": [],
   "source": [
    "answer(18)"
   ]
  },
  {
   "cell_type": "markdown",
   "id": "41ae8d74",
   "metadata": {},
   "source": [
    "#### 19. Create a 8x8 matrix and fill it with a checkerboard pattern (★☆☆)"
   ]
  },
  {
   "cell_type": "code",
   "execution_count": null,
   "id": "abd6aae4",
   "metadata": {},
   "outputs": [],
   "source": []
  },
  {
   "cell_type": "code",
   "execution_count": null,
   "id": "09657982",
   "metadata": {},
   "outputs": [],
   "source": [
    "answer(19)"
   ]
  },
  {
   "cell_type": "markdown",
   "id": "232fbcd4",
   "metadata": {},
   "source": [
    "#### 20. Consider a (6,7,8) shape array, what is the index (x,y,z) of the 100th element? (★☆☆)"
   ]
  },
  {
   "cell_type": "code",
   "execution_count": null,
   "id": "e1a1a077",
   "metadata": {},
   "outputs": [],
   "source": []
  },
  {
   "cell_type": "code",
   "execution_count": null,
   "id": "619b13e1",
   "metadata": {},
   "outputs": [],
   "source": [
    "answer(20)"
   ]
  },
  {
   "cell_type": "markdown",
   "id": "c96b3df3",
   "metadata": {},
   "source": [
    "#### 21. Create a checkerboard 8x8 matrix using the tile function (★☆☆)"
   ]
  },
  {
   "cell_type": "code",
   "execution_count": null,
   "id": "603a6333",
   "metadata": {},
   "outputs": [],
   "source": []
  },
  {
   "cell_type": "code",
   "execution_count": null,
   "id": "7f3b23a5",
   "metadata": {},
   "outputs": [],
   "source": [
    "answer(21)"
   ]
  },
  {
   "cell_type": "markdown",
   "id": "7b953f6e",
   "metadata": {},
   "source": [
    "#### 22. Normalize a 5x5 random matrix (★☆☆)"
   ]
  },
  {
   "cell_type": "code",
   "execution_count": null,
   "id": "37c0d5cf",
   "metadata": {},
   "outputs": [],
   "source": []
  },
  {
   "cell_type": "code",
   "execution_count": null,
   "id": "bf9a8297",
   "metadata": {},
   "outputs": [],
   "source": [
    "answer(22)"
   ]
  },
  {
   "cell_type": "markdown",
   "id": "2542d5c6",
   "metadata": {},
   "source": [
    "#### 23. Create a custom dtype that describes a color as four unsigned bytes (RGBA) (★☆☆)"
   ]
  },
  {
   "cell_type": "code",
   "execution_count": null,
   "id": "a1d6ddd1",
   "metadata": {},
   "outputs": [],
   "source": []
  },
  {
   "cell_type": "code",
   "execution_count": null,
   "id": "d7a5a777",
   "metadata": {},
   "outputs": [],
   "source": [
    "answer(23)"
   ]
  },
  {
   "cell_type": "markdown",
   "id": "5d3028bf",
   "metadata": {},
   "source": [
    "#### 24. Multiply a 5x3 matrix by a 3x2 matrix (real matrix product) (★☆☆)"
   ]
  },
  {
   "cell_type": "code",
   "execution_count": null,
   "id": "9573169e",
   "metadata": {},
   "outputs": [],
   "source": []
  },
  {
   "cell_type": "code",
   "execution_count": null,
   "id": "1e7a1fec",
   "metadata": {},
   "outputs": [],
   "source": [
    "answer(24)"
   ]
  },
  {
   "cell_type": "markdown",
   "id": "34ced089",
   "metadata": {},
   "source": [
    "#### 25. Given a 1D array, negate all elements which are between 3 and 8, in place. (★☆☆)"
   ]
  },
  {
   "cell_type": "code",
   "execution_count": null,
   "id": "33e15f8c",
   "metadata": {},
   "outputs": [],
   "source": []
  },
  {
   "cell_type": "code",
   "execution_count": null,
   "id": "d026aede",
   "metadata": {},
   "outputs": [],
   "source": [
    "answer(25)"
   ]
  },
  {
   "cell_type": "markdown",
   "id": "4f62bd5e",
   "metadata": {},
   "source": [
    "#### 26. What is the output of the following script? (★☆☆)\n",
    "```python\n",
    "# Author: Jake VanderPlas\n",
    "\n",
    "print(sum(range(5),-1))\n",
    "from numpy import *\n",
    "print(sum(range(5),-1))\n",
    "```"
   ]
  },
  {
   "cell_type": "code",
   "execution_count": null,
   "id": "38f1ebe2",
   "metadata": {},
   "outputs": [],
   "source": []
  },
  {
   "cell_type": "code",
   "execution_count": null,
   "id": "42f8d15c",
   "metadata": {},
   "outputs": [],
   "source": [
    "answer(26)"
   ]
  },
  {
   "cell_type": "markdown",
   "id": "4fa43c9a",
   "metadata": {},
   "source": [
    "#### 27. Consider an integer vector Z, which of these expressions are legal? (★☆☆)\n",
    "```python\n",
    "Z**Z\n",
    "2 << Z >> 2\n",
    "Z <- Z\n",
    "1j*Z\n",
    "Z/1/1\n",
    "Z<Z>Z\n",
    "```"
   ]
  },
  {
   "cell_type": "code",
   "execution_count": null,
   "id": "4a1ab7a9",
   "metadata": {},
   "outputs": [],
   "source": []
  },
  {
   "cell_type": "code",
   "execution_count": null,
   "id": "d55e9d5a",
   "metadata": {},
   "outputs": [],
   "source": [
    "answer(27)"
   ]
  },
  {
   "cell_type": "markdown",
   "id": "84f7ebb0",
   "metadata": {},
   "source": [
    "#### 28. What are the result of the following expressions? (★☆☆)\n",
    "```python\n",
    "np.array(0) / np.array(0)\n",
    "np.array(0) // np.array(0)\n",
    "np.array([np.nan]).astype(int).astype(float)\n",
    "```"
   ]
  },
  {
   "cell_type": "code",
   "execution_count": null,
   "id": "73473ff1",
   "metadata": {},
   "outputs": [],
   "source": []
  },
  {
   "cell_type": "code",
   "execution_count": null,
   "id": "a541d700",
   "metadata": {},
   "outputs": [],
   "source": [
    "answer(28)"
   ]
  },
  {
   "cell_type": "markdown",
   "id": "2a7db97a",
   "metadata": {},
   "source": [
    "#### 29. How to round away from zero a float array ? (★☆☆)"
   ]
  },
  {
   "cell_type": "code",
   "execution_count": null,
   "id": "636c5057",
   "metadata": {},
   "outputs": [],
   "source": []
  },
  {
   "cell_type": "code",
   "execution_count": null,
   "id": "05aa923e",
   "metadata": {},
   "outputs": [],
   "source": [
    "answer(29)"
   ]
  },
  {
   "cell_type": "markdown",
   "id": "9df28031",
   "metadata": {},
   "source": [
    "#### 30. How to find common values between two arrays? (★☆☆)"
   ]
  },
  {
   "cell_type": "code",
   "execution_count": null,
   "id": "79c16ea1",
   "metadata": {},
   "outputs": [],
   "source": []
  },
  {
   "cell_type": "code",
   "execution_count": null,
   "id": "60b05205",
   "metadata": {},
   "outputs": [],
   "source": [
    "answer(30)"
   ]
  },
  {
   "cell_type": "markdown",
   "id": "af428cfe",
   "metadata": {},
   "source": [
    "#### 31. How to ignore all numpy warnings (not recommended)? (★☆☆)"
   ]
  },
  {
   "cell_type": "code",
   "execution_count": null,
   "id": "4c6f07d8",
   "metadata": {},
   "outputs": [],
   "source": []
  },
  {
   "cell_type": "code",
   "execution_count": null,
   "id": "14047635",
   "metadata": {},
   "outputs": [],
   "source": [
    "answer(31)"
   ]
  },
  {
   "cell_type": "markdown",
   "id": "6b576681",
   "metadata": {},
   "source": [
    "#### 32. Is the following expressions true? (★☆☆)\n",
    "```python\n",
    "np.sqrt(-1) == np.emath.sqrt(-1)\n",
    "```"
   ]
  },
  {
   "cell_type": "code",
   "execution_count": null,
   "id": "a777b822",
   "metadata": {},
   "outputs": [],
   "source": []
  },
  {
   "cell_type": "code",
   "execution_count": null,
   "id": "c8c0fa59",
   "metadata": {},
   "outputs": [],
   "source": [
    "answer(32)"
   ]
  },
  {
   "cell_type": "markdown",
   "id": "9d8730de",
   "metadata": {},
   "source": [
    "#### 33. How to get the dates of yesterday, today and tomorrow? (★☆☆)"
   ]
  },
  {
   "cell_type": "code",
   "execution_count": null,
   "id": "6c5c31a9",
   "metadata": {},
   "outputs": [],
   "source": []
  },
  {
   "cell_type": "code",
   "execution_count": null,
   "id": "dc3713bd",
   "metadata": {},
   "outputs": [],
   "source": [
    "answer(33)"
   ]
  },
  {
   "cell_type": "markdown",
   "id": "d9e26d46",
   "metadata": {},
   "source": [
    "#### 34. How to get all the dates corresponding to the month of July 2016? (★★☆)"
   ]
  },
  {
   "cell_type": "code",
   "execution_count": null,
   "id": "41f747e5",
   "metadata": {},
   "outputs": [],
   "source": []
  },
  {
   "cell_type": "code",
   "execution_count": null,
   "id": "217d6bc8",
   "metadata": {},
   "outputs": [],
   "source": [
    "answer(34)"
   ]
  },
  {
   "cell_type": "markdown",
   "id": "a68d6e94",
   "metadata": {},
   "source": [
    "#### 35. How to compute ((A+B)*(-A/2)) in place (without copy)? (★★☆)"
   ]
  },
  {
   "cell_type": "code",
   "execution_count": null,
   "id": "a7ceecd3",
   "metadata": {},
   "outputs": [],
   "source": []
  },
  {
   "cell_type": "code",
   "execution_count": null,
   "id": "0488273d",
   "metadata": {},
   "outputs": [],
   "source": [
    "answer(35)"
   ]
  },
  {
   "cell_type": "markdown",
   "id": "be3fdb8a",
   "metadata": {},
   "source": [
    "#### 36. Extract the integer part of a random array of positive numbers using 4 different methods (★★☆)"
   ]
  },
  {
   "cell_type": "code",
   "execution_count": null,
   "id": "8582a68d",
   "metadata": {},
   "outputs": [],
   "source": []
  },
  {
   "cell_type": "code",
   "execution_count": null,
   "id": "591eecd3",
   "metadata": {},
   "outputs": [],
   "source": [
    "answer(36)"
   ]
  },
  {
   "cell_type": "markdown",
   "id": "b56bf60d",
   "metadata": {},
   "source": [
    "#### 37. Create a 5x5 matrix with row values ranging from 0 to 4 (★★☆)"
   ]
  },
  {
   "cell_type": "code",
   "execution_count": null,
   "id": "a9e443da",
   "metadata": {},
   "outputs": [],
   "source": []
  },
  {
   "cell_type": "code",
   "execution_count": null,
   "id": "befd4bb7",
   "metadata": {},
   "outputs": [],
   "source": [
    "answer(37)"
   ]
  },
  {
   "cell_type": "markdown",
   "id": "2cef63bd",
   "metadata": {},
   "source": [
    "#### 38. Consider a generator function that generates 10 integers and use it to build an array (★☆☆)"
   ]
  },
  {
   "cell_type": "code",
   "execution_count": null,
   "id": "8e08e9d3",
   "metadata": {},
   "outputs": [],
   "source": []
  },
  {
   "cell_type": "code",
   "execution_count": null,
   "id": "8e55b4aa",
   "metadata": {},
   "outputs": [],
   "source": [
    "answer(38)"
   ]
  },
  {
   "cell_type": "markdown",
   "id": "1a5146ca",
   "metadata": {},
   "source": [
    "#### 39. Create a vector of size 10 with values ranging from 0 to 1, both excluded (★★☆)"
   ]
  },
  {
   "cell_type": "code",
   "execution_count": null,
   "id": "68b8f97c",
   "metadata": {},
   "outputs": [],
   "source": []
  },
  {
   "cell_type": "code",
   "execution_count": null,
   "id": "bb3d497e",
   "metadata": {},
   "outputs": [],
   "source": [
    "answer(39)"
   ]
  },
  {
   "cell_type": "markdown",
   "id": "1f83ee93",
   "metadata": {},
   "source": [
    "#### 40. Create a random vector of size 10 and sort it (★★☆)"
   ]
  },
  {
   "cell_type": "code",
   "execution_count": null,
   "id": "31a78985",
   "metadata": {},
   "outputs": [],
   "source": []
  },
  {
   "cell_type": "code",
   "execution_count": null,
   "id": "5075a84b",
   "metadata": {},
   "outputs": [],
   "source": [
    "answer(40)"
   ]
  },
  {
   "cell_type": "markdown",
   "id": "7290a14a",
   "metadata": {},
   "source": [
    "#### 41. How to sum a small array faster than np.sum? (★★☆)"
   ]
  },
  {
   "cell_type": "code",
   "execution_count": null,
   "id": "43555e2d",
   "metadata": {},
   "outputs": [],
   "source": []
  },
  {
   "cell_type": "code",
   "execution_count": null,
   "id": "013bb754",
   "metadata": {},
   "outputs": [],
   "source": [
    "answer(41)"
   ]
  },
  {
   "cell_type": "markdown",
   "id": "167ffd85",
   "metadata": {},
   "source": [
    "#### 42. Consider two random array A and B, check if they are equal (★★☆)"
   ]
  },
  {
   "cell_type": "code",
   "execution_count": null,
   "id": "e146997d",
   "metadata": {},
   "outputs": [],
   "source": []
  },
  {
   "cell_type": "code",
   "execution_count": null,
   "id": "13a95703",
   "metadata": {},
   "outputs": [],
   "source": [
    "answer(42)"
   ]
  },
  {
   "cell_type": "markdown",
   "id": "3a5468ee",
   "metadata": {},
   "source": [
    "#### 43. Make an array immutable (read-only) (★★☆)"
   ]
  },
  {
   "cell_type": "code",
   "execution_count": null,
   "id": "bbfc4bca",
   "metadata": {},
   "outputs": [],
   "source": []
  },
  {
   "cell_type": "code",
   "execution_count": null,
   "id": "00d209e4",
   "metadata": {},
   "outputs": [],
   "source": [
    "answer(43)"
   ]
  },
  {
   "cell_type": "markdown",
   "id": "552c2bf0",
   "metadata": {},
   "source": [
    "#### 44. Consider a random 10x2 matrix representing cartesian coordinates, convert them to polar coordinates (★★☆)"
   ]
  },
  {
   "cell_type": "code",
   "execution_count": null,
   "id": "b1c27096",
   "metadata": {},
   "outputs": [],
   "source": []
  },
  {
   "cell_type": "code",
   "execution_count": null,
   "id": "6eb920e4",
   "metadata": {},
   "outputs": [],
   "source": [
    "answer(44)"
   ]
  },
  {
   "cell_type": "markdown",
   "id": "375040e7",
   "metadata": {},
   "source": [
    "#### 45. Create random vector of size 10 and replace the maximum value by 0 (★★☆)"
   ]
  },
  {
   "cell_type": "code",
   "execution_count": null,
   "id": "d2fcb4aa",
   "metadata": {},
   "outputs": [],
   "source": []
  },
  {
   "cell_type": "code",
   "execution_count": null,
   "id": "2d25f904",
   "metadata": {},
   "outputs": [],
   "source": [
    "answer(45)"
   ]
  },
  {
   "cell_type": "markdown",
   "id": "2d69efc2",
   "metadata": {},
   "source": [
    "#### 46. Create a structured array with `x` and `y` coordinates covering the [0,1]x[0,1] area (★★☆)"
   ]
  },
  {
   "cell_type": "code",
   "execution_count": null,
   "id": "6698dff6",
   "metadata": {},
   "outputs": [],
   "source": []
  },
  {
   "cell_type": "code",
   "execution_count": null,
   "id": "e96afa31",
   "metadata": {},
   "outputs": [],
   "source": [
    "answer(46)"
   ]
  },
  {
   "cell_type": "markdown",
   "id": "1bfcbf47",
   "metadata": {},
   "source": [
    "#### 47. Given two arrays, X and Y, construct the Cauchy matrix C (Cij =1/(xi - yj)) (★★☆)"
   ]
  },
  {
   "cell_type": "code",
   "execution_count": null,
   "id": "31e1d09d",
   "metadata": {},
   "outputs": [],
   "source": []
  },
  {
   "cell_type": "code",
   "execution_count": null,
   "id": "614aee9f",
   "metadata": {},
   "outputs": [],
   "source": [
    "answer(47)"
   ]
  },
  {
   "cell_type": "markdown",
   "id": "2946fbfe",
   "metadata": {},
   "source": [
    "#### 48. Print the minimum and maximum representable value for each numpy scalar type (★★☆)"
   ]
  },
  {
   "cell_type": "code",
   "execution_count": null,
   "id": "aa77c673",
   "metadata": {},
   "outputs": [],
   "source": []
  },
  {
   "cell_type": "code",
   "execution_count": null,
   "id": "21942ad2",
   "metadata": {},
   "outputs": [],
   "source": [
    "answer(48)"
   ]
  },
  {
   "cell_type": "markdown",
   "id": "fd4aeecb",
   "metadata": {},
   "source": [
    "#### 49. How to print all the values of an array? (★★☆)"
   ]
  },
  {
   "cell_type": "code",
   "execution_count": null,
   "id": "359907cb",
   "metadata": {},
   "outputs": [],
   "source": []
  },
  {
   "cell_type": "code",
   "execution_count": null,
   "id": "6121807f",
   "metadata": {},
   "outputs": [],
   "source": [
    "answer(49)"
   ]
  },
  {
   "cell_type": "markdown",
   "id": "c2cd3375",
   "metadata": {},
   "source": [
    "#### 50. How to find the closest value (to a given scalar) in a vector? (★★☆)"
   ]
  },
  {
   "cell_type": "code",
   "execution_count": null,
   "id": "e4760f19",
   "metadata": {},
   "outputs": [],
   "source": []
  },
  {
   "cell_type": "code",
   "execution_count": null,
   "id": "ab78fcc1",
   "metadata": {},
   "outputs": [],
   "source": [
    "answer(50)"
   ]
  },
  {
   "cell_type": "markdown",
   "id": "4da5265d",
   "metadata": {},
   "source": [
    "#### 51. Create a structured array representing a position (x,y) and a color (r,g,b) (★★☆)"
   ]
  },
  {
   "cell_type": "code",
   "execution_count": null,
   "id": "df13194f",
   "metadata": {},
   "outputs": [],
   "source": []
  },
  {
   "cell_type": "code",
   "execution_count": null,
   "id": "2311acb3",
   "metadata": {},
   "outputs": [],
   "source": [
    "answer(51)"
   ]
  },
  {
   "cell_type": "markdown",
   "id": "1173e9ba",
   "metadata": {},
   "source": [
    "#### 52. Consider a random vector with shape (100,2) representing coordinates, find point by point distances (★★☆)"
   ]
  },
  {
   "cell_type": "code",
   "execution_count": null,
   "id": "0a298348",
   "metadata": {},
   "outputs": [],
   "source": []
  },
  {
   "cell_type": "code",
   "execution_count": null,
   "id": "e858000e",
   "metadata": {},
   "outputs": [],
   "source": [
    "answer(52)"
   ]
  },
  {
   "cell_type": "markdown",
   "id": "ff5cc116",
   "metadata": {},
   "source": [
    "#### 53. How to convert a float (32 bits) array into an integer (32 bits) in place?"
   ]
  },
  {
   "cell_type": "code",
   "execution_count": null,
   "id": "22435a71",
   "metadata": {},
   "outputs": [],
   "source": []
  },
  {
   "cell_type": "code",
   "execution_count": null,
   "id": "cef8c45a",
   "metadata": {},
   "outputs": [],
   "source": [
    "answer(53)"
   ]
  },
  {
   "cell_type": "markdown",
   "id": "37abe3af",
   "metadata": {},
   "source": [
    "#### 54. How to read the following file? (★★☆)\n",
    "```\n",
    "1, 2, 3, 4, 5\n",
    "6,  ,  , 7, 8\n",
    " ,  , 9,10,11\n",
    "```"
   ]
  },
  {
   "cell_type": "code",
   "execution_count": null,
   "id": "1dbf4af9",
   "metadata": {},
   "outputs": [],
   "source": []
  },
  {
   "cell_type": "code",
   "execution_count": null,
   "id": "f2bf3e03",
   "metadata": {},
   "outputs": [],
   "source": [
    "answer(54)"
   ]
  },
  {
   "cell_type": "markdown",
   "id": "874ae9c1",
   "metadata": {},
   "source": [
    "#### 55. What is the equivalent of enumerate for numpy arrays? (★★☆)"
   ]
  },
  {
   "cell_type": "code",
   "execution_count": null,
   "id": "6d581a97",
   "metadata": {},
   "outputs": [],
   "source": []
  },
  {
   "cell_type": "code",
   "execution_count": null,
   "id": "264a2b59",
   "metadata": {},
   "outputs": [],
   "source": [
    "answer(55)"
   ]
  },
  {
   "cell_type": "markdown",
   "id": "a15bb547",
   "metadata": {},
   "source": [
    "#### 56. Generate a generic 2D Gaussian-like array (★★☆)"
   ]
  },
  {
   "cell_type": "code",
   "execution_count": null,
   "id": "bcc61108",
   "metadata": {},
   "outputs": [],
   "source": []
  },
  {
   "cell_type": "code",
   "execution_count": null,
   "id": "e5a251fb",
   "metadata": {},
   "outputs": [],
   "source": [
    "answer(56)"
   ]
  },
  {
   "cell_type": "markdown",
   "id": "592f9970",
   "metadata": {},
   "source": [
    "#### 57. How to randomly place p elements in a 2D array? (★★☆)"
   ]
  },
  {
   "cell_type": "code",
   "execution_count": null,
   "id": "4f4e21fc",
   "metadata": {},
   "outputs": [],
   "source": []
  },
  {
   "cell_type": "code",
   "execution_count": null,
   "id": "a051a7f2",
   "metadata": {},
   "outputs": [],
   "source": [
    "answer(57)"
   ]
  },
  {
   "cell_type": "markdown",
   "id": "40932a2c",
   "metadata": {},
   "source": [
    "#### 58. Subtract the mean of each row of a matrix (★★☆)"
   ]
  },
  {
   "cell_type": "code",
   "execution_count": null,
   "id": "ef51de2b",
   "metadata": {},
   "outputs": [],
   "source": []
  },
  {
   "cell_type": "code",
   "execution_count": null,
   "id": "aae3d49b",
   "metadata": {},
   "outputs": [],
   "source": [
    "answer(58)"
   ]
  },
  {
   "cell_type": "markdown",
   "id": "8a74c3b7",
   "metadata": {},
   "source": [
    "#### 59. How to sort an array by the nth column? (★★☆)"
   ]
  },
  {
   "cell_type": "code",
   "execution_count": null,
   "id": "cf7b174c",
   "metadata": {},
   "outputs": [],
   "source": []
  },
  {
   "cell_type": "code",
   "execution_count": null,
   "id": "3fa1f3d1",
   "metadata": {},
   "outputs": [],
   "source": [
    "answer(59)"
   ]
  },
  {
   "cell_type": "markdown",
   "id": "90679d2d",
   "metadata": {},
   "source": [
    "#### 60. How to tell if a given 2D array has null columns? (★★☆)"
   ]
  },
  {
   "cell_type": "code",
   "execution_count": null,
   "id": "a0b8946d",
   "metadata": {},
   "outputs": [],
   "source": []
  },
  {
   "cell_type": "code",
   "execution_count": null,
   "id": "97af6d77",
   "metadata": {},
   "outputs": [],
   "source": [
    "answer(60)"
   ]
  },
  {
   "cell_type": "markdown",
   "id": "cf9844e4",
   "metadata": {},
   "source": [
    "#### 61. Find the nearest value from a given value in an array (★★☆)"
   ]
  },
  {
   "cell_type": "code",
   "execution_count": null,
   "id": "c6074be0",
   "metadata": {},
   "outputs": [],
   "source": []
  },
  {
   "cell_type": "code",
   "execution_count": null,
   "id": "1b839932",
   "metadata": {},
   "outputs": [],
   "source": [
    "answer(61)"
   ]
  },
  {
   "cell_type": "markdown",
   "id": "19b50297",
   "metadata": {},
   "source": [
    "#### 62. Considering two arrays with shape (1,3) and (3,1), how to compute their sum using an iterator? (★★☆)"
   ]
  },
  {
   "cell_type": "code",
   "execution_count": null,
   "id": "752bc282",
   "metadata": {},
   "outputs": [],
   "source": []
  },
  {
   "cell_type": "code",
   "execution_count": null,
   "id": "317d26b4",
   "metadata": {},
   "outputs": [],
   "source": [
    "answer(62)"
   ]
  },
  {
   "cell_type": "markdown",
   "id": "f0c9dd58",
   "metadata": {},
   "source": [
    "#### 63. Create an array class that has a name attribute (★★☆)"
   ]
  },
  {
   "cell_type": "code",
   "execution_count": null,
   "id": "dc80482b",
   "metadata": {},
   "outputs": [],
   "source": []
  },
  {
   "cell_type": "code",
   "execution_count": null,
   "id": "71fcba38",
   "metadata": {},
   "outputs": [],
   "source": [
    "answer(63)"
   ]
  },
  {
   "cell_type": "markdown",
   "id": "737dba6b",
   "metadata": {},
   "source": [
    "#### 64. Consider a given vector, how to add 1 to each element indexed by a second vector (be careful with repeated indices)? (★★★)"
   ]
  },
  {
   "cell_type": "code",
   "execution_count": null,
   "id": "ad16dfa6",
   "metadata": {},
   "outputs": [],
   "source": []
  },
  {
   "cell_type": "code",
   "execution_count": null,
   "id": "28388968",
   "metadata": {},
   "outputs": [],
   "source": [
    "answer(64)"
   ]
  },
  {
   "cell_type": "markdown",
   "id": "6b2e8aca",
   "metadata": {},
   "source": [
    "#### 65. How to accumulate elements of a vector (X) to an array (F) based on an index list (I)? (★★★)"
   ]
  },
  {
   "cell_type": "code",
   "execution_count": null,
   "id": "cb0adce4",
   "metadata": {},
   "outputs": [],
   "source": []
  },
  {
   "cell_type": "code",
   "execution_count": null,
   "id": "f1cdd43b",
   "metadata": {},
   "outputs": [],
   "source": [
    "answer(65)"
   ]
  },
  {
   "cell_type": "markdown",
   "id": "d11651c1",
   "metadata": {},
   "source": [
    "#### 66. Considering a (w,h,3) image of (dtype=ubyte), compute the number of unique colors (★★☆)"
   ]
  },
  {
   "cell_type": "code",
   "execution_count": null,
   "id": "20dfdfc5",
   "metadata": {},
   "outputs": [],
   "source": []
  },
  {
   "cell_type": "code",
   "execution_count": null,
   "id": "9f5b73fb",
   "metadata": {},
   "outputs": [],
   "source": [
    "answer(66)"
   ]
  },
  {
   "cell_type": "markdown",
   "id": "87022a38",
   "metadata": {},
   "source": [
    "#### 67. Considering a four dimensions array, how to get sum over the last two axis at once? (★★★)"
   ]
  },
  {
   "cell_type": "code",
   "execution_count": null,
   "id": "ef3d3344",
   "metadata": {},
   "outputs": [],
   "source": []
  },
  {
   "cell_type": "code",
   "execution_count": null,
   "id": "9bc47cc4",
   "metadata": {},
   "outputs": [],
   "source": [
    "answer(67)"
   ]
  },
  {
   "cell_type": "markdown",
   "id": "11499a68",
   "metadata": {},
   "source": [
    "#### 68. Considering a one-dimensional vector D, how to compute means of subsets of D using a vector S of same size describing subset  indices? (★★★)"
   ]
  },
  {
   "cell_type": "code",
   "execution_count": null,
   "id": "a8a609bc",
   "metadata": {},
   "outputs": [],
   "source": []
  },
  {
   "cell_type": "code",
   "execution_count": null,
   "id": "8be919d2",
   "metadata": {},
   "outputs": [],
   "source": [
    "answer(68)"
   ]
  },
  {
   "cell_type": "markdown",
   "id": "d638dc10",
   "metadata": {},
   "source": [
    "#### 69. How to get the diagonal of a dot product? (★★★)"
   ]
  },
  {
   "cell_type": "code",
   "execution_count": null,
   "id": "399077c0",
   "metadata": {},
   "outputs": [],
   "source": []
  },
  {
   "cell_type": "code",
   "execution_count": null,
   "id": "321b3d27",
   "metadata": {},
   "outputs": [],
   "source": [
    "answer(69)"
   ]
  },
  {
   "cell_type": "markdown",
   "id": "dc6b334e",
   "metadata": {},
   "source": [
    "#### 70. Consider the vector [1, 2, 3, 4, 5], how to build a new vector with 3 consecutive zeros interleaved between each value? (★★★)"
   ]
  },
  {
   "cell_type": "code",
   "execution_count": null,
   "id": "e8254440",
   "metadata": {},
   "outputs": [],
   "source": []
  },
  {
   "cell_type": "code",
   "execution_count": null,
   "id": "16882edb",
   "metadata": {},
   "outputs": [],
   "source": [
    "answer(70)"
   ]
  },
  {
   "cell_type": "markdown",
   "id": "85ba895a",
   "metadata": {},
   "source": [
    "#### 71. Consider an array of dimension (5,5,3), how to mulitply it by an array with dimensions (5,5)? (★★★)"
   ]
  },
  {
   "cell_type": "code",
   "execution_count": null,
   "id": "74520da0",
   "metadata": {},
   "outputs": [],
   "source": []
  },
  {
   "cell_type": "code",
   "execution_count": null,
   "id": "9b66ae42",
   "metadata": {},
   "outputs": [],
   "source": [
    "answer(71)"
   ]
  },
  {
   "cell_type": "markdown",
   "id": "ea07cbea",
   "metadata": {},
   "source": [
    "#### 72. How to swap two rows of an array? (★★★)"
   ]
  },
  {
   "cell_type": "code",
   "execution_count": null,
   "id": "790cb51f",
   "metadata": {},
   "outputs": [],
   "source": []
  },
  {
   "cell_type": "code",
   "execution_count": null,
   "id": "a76209be",
   "metadata": {},
   "outputs": [],
   "source": [
    "answer(72)"
   ]
  },
  {
   "cell_type": "markdown",
   "id": "99d36ecc",
   "metadata": {},
   "source": [
    "#### 73. Consider a set of 10 triplets describing 10 triangles (with shared vertices), find the set of unique line segments composing all the  triangles (★★★)"
   ]
  },
  {
   "cell_type": "code",
   "execution_count": null,
   "id": "0424cda9",
   "metadata": {},
   "outputs": [],
   "source": []
  },
  {
   "cell_type": "code",
   "execution_count": null,
   "id": "ad90ca8e",
   "metadata": {},
   "outputs": [],
   "source": [
    "answer(73)"
   ]
  },
  {
   "cell_type": "markdown",
   "id": "5127e5b2",
   "metadata": {},
   "source": [
    "#### 74. Given a sorted array C that corresponds to a bincount, how to produce an array A such that np.bincount(A) == C? (★★★)"
   ]
  },
  {
   "cell_type": "code",
   "execution_count": null,
   "id": "18e6b3a2",
   "metadata": {},
   "outputs": [],
   "source": []
  },
  {
   "cell_type": "code",
   "execution_count": null,
   "id": "6e162e9b",
   "metadata": {},
   "outputs": [],
   "source": [
    "answer(74)"
   ]
  },
  {
   "cell_type": "markdown",
   "id": "2f28a1ad",
   "metadata": {},
   "source": [
    "#### 75. How to compute averages using a sliding window over an array? (★★★)"
   ]
  },
  {
   "cell_type": "code",
   "execution_count": null,
   "id": "9630a2ee",
   "metadata": {},
   "outputs": [],
   "source": []
  },
  {
   "cell_type": "code",
   "execution_count": null,
   "id": "994caca2",
   "metadata": {},
   "outputs": [],
   "source": [
    "answer(75)"
   ]
  },
  {
   "cell_type": "markdown",
   "id": "57f43566",
   "metadata": {},
   "source": [
    "#### 76. Consider a one-dimensional array Z, build a two-dimensional array whose first row is (Z[0],Z[1],Z[2]) and each subsequent row is  shifted by 1 (last row should be (Z[-3],Z[-2],Z[-1]) (★★★)"
   ]
  },
  {
   "cell_type": "code",
   "execution_count": null,
   "id": "6c7c4c46",
   "metadata": {},
   "outputs": [],
   "source": []
  },
  {
   "cell_type": "code",
   "execution_count": null,
   "id": "8bc81fc8",
   "metadata": {},
   "outputs": [],
   "source": [
    "answer(76)"
   ]
  },
  {
   "cell_type": "markdown",
   "id": "8f2b4cfb",
   "metadata": {},
   "source": [
    "#### 77. How to negate a boolean, or to change the sign of a float inplace? (★★★)"
   ]
  },
  {
   "cell_type": "code",
   "execution_count": null,
   "id": "017d64dc",
   "metadata": {},
   "outputs": [],
   "source": []
  },
  {
   "cell_type": "code",
   "execution_count": null,
   "id": "b4367b64",
   "metadata": {},
   "outputs": [],
   "source": [
    "answer(77)"
   ]
  },
  {
   "cell_type": "markdown",
   "id": "d8923e16",
   "metadata": {},
   "source": [
    "#### 78. Consider 2 sets of points P0,P1 describing lines (2d) and a point p, how to compute distance from p to each line i (P0[i],P1[i])? (★★★)"
   ]
  },
  {
   "cell_type": "code",
   "execution_count": null,
   "id": "039983b5",
   "metadata": {},
   "outputs": [],
   "source": []
  },
  {
   "cell_type": "code",
   "execution_count": null,
   "id": "15523e8f",
   "metadata": {},
   "outputs": [],
   "source": [
    "answer(78)"
   ]
  },
  {
   "cell_type": "markdown",
   "id": "e4564214",
   "metadata": {},
   "source": [
    "#### 79. Consider 2 sets of points P0,P1 describing lines (2d) and a set of points P, how to compute distance from each point j (P[j]) to each line i (P0[i],P1[i])? (★★★)"
   ]
  },
  {
   "cell_type": "code",
   "execution_count": null,
   "id": "a2c0f3c9",
   "metadata": {},
   "outputs": [],
   "source": []
  },
  {
   "cell_type": "code",
   "execution_count": null,
   "id": "87fb865e",
   "metadata": {},
   "outputs": [],
   "source": [
    "answer(79)"
   ]
  },
  {
   "cell_type": "markdown",
   "id": "efa9f5c7",
   "metadata": {},
   "source": [
    "#### 80. Consider an arbitrary array, write a function that extract a subpart with a fixed shape and centered on a given element (pad with a `fill` value when necessary) (★★★)"
   ]
  },
  {
   "cell_type": "code",
   "execution_count": null,
   "id": "c1a470b1",
   "metadata": {},
   "outputs": [],
   "source": []
  },
  {
   "cell_type": "code",
   "execution_count": null,
   "id": "599505fd",
   "metadata": {},
   "outputs": [],
   "source": [
    "answer(80)"
   ]
  },
  {
   "cell_type": "markdown",
   "id": "cfec8906",
   "metadata": {},
   "source": [
    "#### 81. Consider an array Z = [1,2,3,4,5,6,7,8,9,10,11,12,13,14], how to generate an array R = [[1,2,3,4], [2,3,4,5], [3,4,5,6], ..., [11,12,13,14]]? (★★★)"
   ]
  },
  {
   "cell_type": "code",
   "execution_count": null,
   "id": "f2627d79",
   "metadata": {},
   "outputs": [],
   "source": []
  },
  {
   "cell_type": "code",
   "execution_count": null,
   "id": "4a6ce46b",
   "metadata": {},
   "outputs": [],
   "source": [
    "answer(81)"
   ]
  },
  {
   "cell_type": "markdown",
   "id": "e5c241f4",
   "metadata": {},
   "source": [
    "#### 82. Compute a matrix rank (★★★)"
   ]
  },
  {
   "cell_type": "code",
   "execution_count": null,
   "id": "1501c3d6",
   "metadata": {},
   "outputs": [],
   "source": []
  },
  {
   "cell_type": "code",
   "execution_count": null,
   "id": "9794f1f9",
   "metadata": {},
   "outputs": [],
   "source": [
    "answer(82)"
   ]
  },
  {
   "cell_type": "markdown",
   "id": "0c5d59dc",
   "metadata": {},
   "source": [
    "#### 83. How to find the most frequent value in an array?"
   ]
  },
  {
   "cell_type": "code",
   "execution_count": null,
   "id": "3528aa4f",
   "metadata": {},
   "outputs": [],
   "source": []
  },
  {
   "cell_type": "code",
   "execution_count": null,
   "id": "9b26b3e7",
   "metadata": {},
   "outputs": [],
   "source": [
    "answer(83)"
   ]
  },
  {
   "cell_type": "markdown",
   "id": "d425baaa",
   "metadata": {},
   "source": [
    "#### 84. Extract all the contiguous 3x3 blocks from a random 10x10 matrix (★★★)"
   ]
  },
  {
   "cell_type": "code",
   "execution_count": null,
   "id": "acf8d63c",
   "metadata": {},
   "outputs": [],
   "source": []
  },
  {
   "cell_type": "code",
   "execution_count": null,
   "id": "57225fb9",
   "metadata": {},
   "outputs": [],
   "source": [
    "answer(84)"
   ]
  },
  {
   "cell_type": "markdown",
   "id": "4babb80c",
   "metadata": {},
   "source": [
    "#### 85. Create a 2D array subclass such that Z[i,j] == Z[j,i] (★★★)"
   ]
  },
  {
   "cell_type": "code",
   "execution_count": null,
   "id": "90425430",
   "metadata": {},
   "outputs": [],
   "source": []
  },
  {
   "cell_type": "code",
   "execution_count": null,
   "id": "93ac85f5",
   "metadata": {},
   "outputs": [],
   "source": [
    "answer(85)"
   ]
  },
  {
   "cell_type": "markdown",
   "id": "3c3be87f",
   "metadata": {},
   "source": [
    "#### 86. Consider a set of p matrices wich shape (n,n) and a set of p vectors with shape (n,1). How to compute the sum of of the p matrix products at once? (result has shape (n,1)) (★★★)"
   ]
  },
  {
   "cell_type": "code",
   "execution_count": null,
   "id": "e8fb4aee",
   "metadata": {},
   "outputs": [],
   "source": []
  },
  {
   "cell_type": "code",
   "execution_count": null,
   "id": "5836825c",
   "metadata": {},
   "outputs": [],
   "source": [
    "answer(86)"
   ]
  },
  {
   "cell_type": "markdown",
   "id": "bfff0627",
   "metadata": {},
   "source": [
    "#### 87. Consider a 16x16 array, how to get the block-sum (block size is 4x4)? (★★★)"
   ]
  },
  {
   "cell_type": "code",
   "execution_count": null,
   "id": "84062828",
   "metadata": {},
   "outputs": [],
   "source": []
  },
  {
   "cell_type": "code",
   "execution_count": null,
   "id": "d2ca72ef",
   "metadata": {},
   "outputs": [],
   "source": [
    "answer(87)"
   ]
  },
  {
   "cell_type": "markdown",
   "id": "daadf7f0",
   "metadata": {},
   "source": [
    "#### 88. How to implement the Game of Life using numpy arrays? (★★★)"
   ]
  },
  {
   "cell_type": "code",
   "execution_count": null,
   "id": "bd20fdd8",
   "metadata": {},
   "outputs": [],
   "source": []
  },
  {
   "cell_type": "code",
   "execution_count": null,
   "id": "24ae2b49",
   "metadata": {},
   "outputs": [],
   "source": [
    "answer(88)"
   ]
  },
  {
   "cell_type": "markdown",
   "id": "ff66372a",
   "metadata": {},
   "source": [
    "#### 89. How to get the n largest values of an array (★★★)"
   ]
  },
  {
   "cell_type": "code",
   "execution_count": null,
   "id": "694947da",
   "metadata": {},
   "outputs": [],
   "source": []
  },
  {
   "cell_type": "code",
   "execution_count": null,
   "id": "f5fcd15f",
   "metadata": {},
   "outputs": [],
   "source": [
    "answer(89)"
   ]
  },
  {
   "cell_type": "markdown",
   "id": "e3f0ea94",
   "metadata": {},
   "source": [
    "#### 90. Given an arbitrary number of vectors, build the cartesian product (every combinations of every item) (★★★)"
   ]
  },
  {
   "cell_type": "code",
   "execution_count": null,
   "id": "5151c441",
   "metadata": {},
   "outputs": [],
   "source": []
  },
  {
   "cell_type": "code",
   "execution_count": null,
   "id": "dd6d41f2",
   "metadata": {},
   "outputs": [],
   "source": [
    "answer(90)"
   ]
  },
  {
   "cell_type": "markdown",
   "id": "9eb568e2",
   "metadata": {},
   "source": [
    "#### 91. How to create a record array from a regular array? (★★★)"
   ]
  },
  {
   "cell_type": "code",
   "execution_count": null,
   "id": "0a14a10b",
   "metadata": {},
   "outputs": [],
   "source": []
  },
  {
   "cell_type": "code",
   "execution_count": null,
   "id": "0d582977",
   "metadata": {},
   "outputs": [],
   "source": [
    "answer(91)"
   ]
  },
  {
   "cell_type": "markdown",
   "id": "9d79eddf",
   "metadata": {},
   "source": [
    "#### 92. Consider a large vector Z, compute Z to the power of 3 using 3 different methods (★★★)"
   ]
  },
  {
   "cell_type": "code",
   "execution_count": null,
   "id": "c6d80281",
   "metadata": {},
   "outputs": [],
   "source": []
  },
  {
   "cell_type": "code",
   "execution_count": null,
   "id": "219c5922",
   "metadata": {},
   "outputs": [],
   "source": [
    "answer(92)"
   ]
  },
  {
   "cell_type": "markdown",
   "id": "e10f55f7",
   "metadata": {},
   "source": [
    "#### 93. Consider two arrays A and B of shape (8,3) and (2,2). How to find rows of A that contain elements of each row of B regardless of the order of the elements in B? (★★★)"
   ]
  },
  {
   "cell_type": "code",
   "execution_count": null,
   "id": "f10663a5",
   "metadata": {},
   "outputs": [],
   "source": []
  },
  {
   "cell_type": "code",
   "execution_count": null,
   "id": "de98d519",
   "metadata": {},
   "outputs": [],
   "source": [
    "answer(93)"
   ]
  },
  {
   "cell_type": "markdown",
   "id": "192777bc",
   "metadata": {},
   "source": [
    "#### 94. Considering a 10x3 matrix, extract rows with unequal values (e.g. [2,2,3]) (★★★)"
   ]
  },
  {
   "cell_type": "code",
   "execution_count": null,
   "id": "75de1ab8",
   "metadata": {},
   "outputs": [],
   "source": []
  },
  {
   "cell_type": "code",
   "execution_count": null,
   "id": "154955a2",
   "metadata": {},
   "outputs": [],
   "source": [
    "answer(94)"
   ]
  },
  {
   "cell_type": "markdown",
   "id": "7a4ca7e5",
   "metadata": {},
   "source": [
    "#### 95. Convert a vector of ints into a matrix binary representation (★★★)"
   ]
  },
  {
   "cell_type": "code",
   "execution_count": null,
   "id": "b8e0b638",
   "metadata": {},
   "outputs": [],
   "source": []
  },
  {
   "cell_type": "code",
   "execution_count": null,
   "id": "fbb59974",
   "metadata": {},
   "outputs": [],
   "source": [
    "answer(95)"
   ]
  },
  {
   "cell_type": "markdown",
   "id": "e0e54943",
   "metadata": {},
   "source": [
    "#### 96. Given a two dimensional array, how to extract unique rows? (★★★)"
   ]
  },
  {
   "cell_type": "code",
   "execution_count": null,
   "id": "290d6001",
   "metadata": {},
   "outputs": [],
   "source": []
  },
  {
   "cell_type": "code",
   "execution_count": null,
   "id": "b40e7551",
   "metadata": {},
   "outputs": [],
   "source": [
    "answer(96)"
   ]
  },
  {
   "cell_type": "markdown",
   "id": "5bbf0825",
   "metadata": {},
   "source": [
    "#### 97. Considering 2 vectors A & B, write the einsum equivalent of inner, outer, sum, and mul function (★★★)"
   ]
  },
  {
   "cell_type": "code",
   "execution_count": null,
   "id": "26737ee4",
   "metadata": {},
   "outputs": [],
   "source": []
  },
  {
   "cell_type": "code",
   "execution_count": null,
   "id": "b96f8f85",
   "metadata": {},
   "outputs": [],
   "source": [
    "answer(97)"
   ]
  },
  {
   "cell_type": "markdown",
   "id": "48f60fd8",
   "metadata": {},
   "source": [
    "#### 98. Considering a path described by two vectors (X,Y), how to sample it using equidistant samples (★★★)?"
   ]
  },
  {
   "cell_type": "code",
   "execution_count": null,
   "id": "3fc86b75",
   "metadata": {},
   "outputs": [],
   "source": []
  },
  {
   "cell_type": "code",
   "execution_count": null,
   "id": "adc5ece6",
   "metadata": {},
   "outputs": [],
   "source": [
    "answer(98)"
   ]
  },
  {
   "cell_type": "markdown",
   "id": "972c944b",
   "metadata": {},
   "source": [
    "#### 99. Given an integer n and a 2D array X, select from X the rows which can be interpreted as draws from a multinomial distribution with n degrees, i.e., the rows which only contain integers and which sum to n. (★★★)"
   ]
  },
  {
   "cell_type": "code",
   "execution_count": null,
   "id": "efe6f846",
   "metadata": {},
   "outputs": [],
   "source": []
  },
  {
   "cell_type": "code",
   "execution_count": null,
   "id": "eabee6c6",
   "metadata": {},
   "outputs": [],
   "source": [
    "answer(99)"
   ]
  },
  {
   "cell_type": "markdown",
   "id": "e6a9f8bb",
   "metadata": {},
   "source": [
    "#### 100. Compute bootstrapped 95% confidence intervals for the mean of a 1D array X (i.e., resample the elements of an array with replacement N times, compute the mean of each sample, and then compute percentiles over the means). (★★★)"
   ]
  },
  {
   "cell_type": "code",
   "execution_count": null,
   "id": "2c1e633a",
   "metadata": {},
   "outputs": [],
   "source": []
  },
  {
   "cell_type": "code",
   "execution_count": null,
   "id": "bd125054",
   "metadata": {},
   "outputs": [],
   "source": [
    "answer(100)"
   ]
  },
  {
   "cell_type": "markdown",
   "id": "a8dd0ffd",
   "metadata": {},
   "source": [
    "#### 101. What is the result of the following expression? Compare the execution time of the codes in the last 4 lines. (★☆☆)\n",
    "```python\n",
    "X = np.arange(4).reshape((2, 2))\n",
    "X^2\n",
    "np.matmul(X, X)\n",
    "X*X\n",
    "X**2\n",
    "np.square(X)\n",
    "np.power(X, 2)\n",
    "```"
   ]
  },
  {
   "cell_type": "code",
   "execution_count": null,
   "id": "de6b1b40",
   "metadata": {},
   "outputs": [],
   "source": []
  },
  {
   "cell_type": "code",
   "execution_count": null,
   "id": "baa997fd",
   "metadata": {},
   "outputs": [],
   "source": [
    "answer(101)"
   ]
  },
  {
   "cell_type": "markdown",
   "id": "ab716b06",
   "metadata": {},
   "source": [
    "#### 102. How to see documentation of command `%run`? (★☆☆)"
   ]
  },
  {
   "cell_type": "code",
   "execution_count": null,
   "id": "7ce95d86",
   "metadata": {},
   "outputs": [],
   "source": []
  },
  {
   "cell_type": "code",
   "execution_count": null,
   "id": "44438b0e",
   "metadata": {},
   "outputs": [],
   "source": [
    "answer(102)"
   ]
  }
 ],
 "metadata": {},
 "nbformat": 4,
 "nbformat_minor": 5
}
