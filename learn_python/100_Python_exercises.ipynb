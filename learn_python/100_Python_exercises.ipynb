{
 "cells": [
  {
   "cell_type": "markdown",
   "id": "884c4960",
   "metadata": {},
   "source": [
    "# 100 Python exercises\n",
    "\n",
    "This is program to teach python. Most of the source code is from https://github.com/rougier/numpy-100"
   ]
  },
  {
   "cell_type": "markdown",
   "id": "975dccf6",
   "metadata": {},
   "source": [
    "File automatically generated. See the documentation to update questions/answers/hints programmatically."
   ]
  },
  {
   "cell_type": "markdown",
   "id": "eb432271",
   "metadata": {},
   "source": [
    "Run the `initialize.py` module, then for each question you can query the\n",
    "answer or an hint with `hint(n)` or `answer(n)` for `n` question number."
   ]
  },
  {
   "cell_type": "code",
   "execution_count": 1,
   "id": "e45c6468",
   "metadata": {},
   "outputs": [],
   "source": [
    "%run initialise.py"
   ]
  },
  {
   "cell_type": "markdown",
   "id": "e0debd26",
   "metadata": {},
   "source": [
    "#### 1. [DFS와 BFS](https://www.acmicpc.net/problem/1260)"
   ]
  },
  {
   "cell_type": "code",
   "execution_count": 2,
   "id": "3c14edec",
   "metadata": {},
   "outputs": [
    {
     "name": "stdout",
     "output_type": "stream",
     "text": [
      "hint:\n"
     ]
    }
   ],
   "source": []
  },
  {
   "cell_type": "markdown",
   "id": "ff098102",
   "metadata": {},
   "source": [
    "#### 2. [연속합 2](https://www.acmicpc.net/problem/13398)"
   ]
  },
  {
   "cell_type": "code",
   "execution_count": null,
   "id": "cc029fff",
   "metadata": {},
   "outputs": [],
   "source": []
  },
  {
   "cell_type": "markdown",
   "id": "1c3392a8",
   "metadata": {},
   "source": [
    "#### 3. [Base Conversion](https://www.acmicpc.net/problem/11576)"
   ]
  },
  {
   "cell_type": "code",
   "execution_count": null,
   "id": "79647de1",
   "metadata": {},
   "outputs": [],
   "source": []
  },
  {
   "cell_type": "markdown",
   "id": "9810f55d",
   "metadata": {},
   "source": [
    "#### 4. [트리의 높이와 너비](https://www.acmicpc.net/problem/2250)"
   ]
  },
  {
   "cell_type": "code",
   "execution_count": null,
   "id": "87aabb9a",
   "metadata": {},
   "outputs": [],
   "source": []
  },
  {
   "cell_type": "markdown",
   "id": "7c68eb85",
   "metadata": {},
   "source": [
    "#### 5. [카잉 달력](https://www.acmicpc.net/problem/6064)"
   ]
  },
  {
   "cell_type": "code",
   "execution_count": null,
   "id": "b54c68ac",
   "metadata": {},
   "outputs": [],
   "source": []
  },
  {
   "cell_type": "markdown",
   "id": "3d3b4282",
   "metadata": {},
   "source": [
    "#### 6. [트리 순회](https://www.acmicpc.net/problem/1991)"
   ]
  },
  {
   "cell_type": "code",
   "execution_count": null,
   "id": "0e03cc35",
   "metadata": {},
   "outputs": [],
   "source": []
  },
  {
   "cell_type": "markdown",
   "id": "45810d0a",
   "metadata": {},
   "source": [
    "#### 7. [2진수 8진수](https://www.acmicpc.net/problem/1373)"
   ]
  },
  {
   "cell_type": "code",
   "execution_count": null,
   "id": "4848bcc3",
   "metadata": {},
   "outputs": [],
   "source": []
  },
  {
   "cell_type": "markdown",
   "id": "e9ab8490",
   "metadata": {},
   "source": [
    "#### 8. [숨바꼭질 6](https://www.acmicpc.net/problem/17087)"
   ]
  },
  {
   "cell_type": "code",
   "execution_count": null,
   "id": "c3470967",
   "metadata": {},
   "outputs": [],
   "source": []
  },
  {
   "cell_type": "markdown",
   "id": "dffbac22",
   "metadata": {},
   "source": [
    "#### 9. [알파벳 찾기](https://www.acmicpc.net/problem/10809)"
   ]
  },
  {
   "cell_type": "code",
   "execution_count": null,
   "id": "a5ebc0b6",
   "metadata": {},
   "outputs": [],
   "source": []
  },
  {
   "cell_type": "markdown",
   "id": "ee4cd8e9",
   "metadata": {},
   "source": [
    "#### 10. [부등호](https://www.acmicpc.net/problem/2529)"
   ]
  },
  {
   "cell_type": "code",
   "execution_count": null,
   "id": "0f4fb832",
   "metadata": {},
   "outputs": [],
   "source": []
  },
  {
   "cell_type": "markdown",
   "id": "b7094c22",
   "metadata": {},
   "source": [
    "#### 11. [동물원](https://www.acmicpc.net/problem/1309)"
   ]
  },
  {
   "cell_type": "code",
   "execution_count": null,
   "id": "6a8aaae4",
   "metadata": {},
   "outputs": [],
   "source": []
  },
  {
   "cell_type": "markdown",
   "id": "c8cb930b",
   "metadata": {},
   "source": [
    "#### 12. [섬의 개수](https://www.acmicpc.net/problem/4963)"
   ]
  },
  {
   "cell_type": "code",
   "execution_count": null,
   "id": "85a5cac5",
   "metadata": {},
   "outputs": [],
   "source": []
  },
  {
   "cell_type": "markdown",
   "id": "b8d90acc",
   "metadata": {},
   "source": [
    "#### 13. [N과 M (2)](https://www.acmicpc.net/problem/15650)"
   ]
  },
  {
   "cell_type": "code",
   "execution_count": null,
   "id": "f276abbe",
   "metadata": {},
   "outputs": [],
   "source": []
  },
  {
   "cell_type": "markdown",
   "id": "c4aea6ed",
   "metadata": {},
   "source": [
    "#### 14. [RGB거리](https://www.acmicpc.net/problem/1149)"
   ]
  },
  {
   "cell_type": "code",
   "execution_count": null,
   "id": "eb9c6693",
   "metadata": {},
   "outputs": [],
   "source": []
  },
  {
   "cell_type": "markdown",
   "id": "e5cdae56",
   "metadata": {},
   "source": [
    "#### 15. [스택](https://www.acmicpc.net/problem/10828)"
   ]
  },
  {
   "cell_type": "code",
   "execution_count": null,
   "id": "62669bfa",
   "metadata": {},
   "outputs": [],
   "source": []
  },
  {
   "cell_type": "markdown",
   "id": "35b55d5c",
   "metadata": {},
   "source": [
    "#### 16. [숨바꼭질](https://www.acmicpc.net/problem/1697)"
   ]
  },
  {
   "cell_type": "code",
   "execution_count": null,
   "id": "b69491c7",
   "metadata": {},
   "outputs": [],
   "source": []
  },
  {
   "cell_type": "markdown",
   "id": "0f8f5714",
   "metadata": {},
   "source": [
    "#### 17. [가장 긴 증가하는 부분 수열](https://www.acmicpc.net/problem/11053)"
   ]
  },
  {
   "cell_type": "code",
   "execution_count": null,
   "id": "3554ff21",
   "metadata": {},
   "outputs": [],
   "source": []
  },
  {
   "cell_type": "markdown",
   "id": "c4dc9da1",
   "metadata": {},
   "source": [
    "#### 18. [제곱수의 합](https://www.acmicpc.net/problem/1699)"
   ]
  },
  {
   "cell_type": "code",
   "execution_count": null,
   "id": "15efdc83",
   "metadata": {},
   "outputs": [],
   "source": []
  },
  {
   "cell_type": "markdown",
   "id": "52ebfdb8",
   "metadata": {},
   "source": [
    "#### 19. [나머지](https://www.acmicpc.net/problem/10430)"
   ]
  },
  {
   "cell_type": "code",
   "execution_count": null,
   "id": "0a21b5da",
   "metadata": {},
   "outputs": [],
   "source": []
  },
  {
   "cell_type": "markdown",
   "id": "aecb8b91",
   "metadata": {},
   "source": [
    "#### 20. [이전 순열](https://www.acmicpc.net/problem/10973)"
   ]
  },
  {
   "cell_type": "code",
   "execution_count": null,
   "id": "ceb63658",
   "metadata": {},
   "outputs": [],
   "source": []
  },
  {
   "cell_type": "markdown",
   "id": "da944f21",
   "metadata": {},
   "source": [
    "#### 21. [알고스팟](https://www.acmicpc.net/problem/1261)"
   ]
  },
  {
   "cell_type": "code",
   "execution_count": null,
   "id": "217fcaaa",
   "metadata": {},
   "outputs": [],
   "source": []
  },
  {
   "cell_type": "markdown",
   "id": "2d14bfa3",
   "metadata": {},
   "source": [
    "#### 22. [N과 M (3)](https://www.acmicpc.net/problem/15651)"
   ]
  },
  {
   "cell_type": "code",
   "execution_count": null,
   "id": "7054b17d",
   "metadata": {},
   "outputs": [],
   "source": []
  },
  {
   "cell_type": "markdown",
   "id": "e153d656",
   "metadata": {},
   "source": [
    "#### 23. [로또](https://www.acmicpc.net/problem/6603)"
   ]
  },
  {
   "cell_type": "code",
   "execution_count": null,
   "id": "9fa6bef2",
   "metadata": {},
   "outputs": [],
   "source": []
  },
  {
   "cell_type": "markdown",
   "id": "9d6ce585",
   "metadata": {},
   "source": [
    "#### 24. [연결 요소의 개수](https://www.acmicpc.net/problem/11724)"
   ]
  },
  {
   "cell_type": "code",
   "execution_count": null,
   "id": "662d7adf",
   "metadata": {},
   "outputs": [],
   "source": []
  },
  {
   "cell_type": "markdown",
   "id": "b417f63d",
   "metadata": {},
   "source": [
    "#### 25. [N과 M (7)](https://www.acmicpc.net/problem/15656)"
   ]
  },
  {
   "cell_type": "code",
   "execution_count": null,
   "id": "b8be17ab",
   "metadata": {},
   "outputs": [],
   "source": []
  },
  {
   "cell_type": "markdown",
   "id": "68479f5e",
   "metadata": {},
   "source": [
    "#### 26. [8진수 2진수](https://www.acmicpc.net/problem/1212)"
   ]
  },
  {
   "cell_type": "code",
   "execution_count": null,
   "id": "da564fb9",
   "metadata": {},
   "outputs": [],
   "source": []
  },
  {
   "cell_type": "markdown",
   "id": "d0966ac1",
   "metadata": {},
   "source": [
    "#### 27. [부분수열의 합](https://www.acmicpc.net/problem/1182)"
   ]
  },
  {
   "cell_type": "code",
   "execution_count": null,
   "id": "7c77cb05",
   "metadata": {},
   "outputs": [],
   "source": []
  },
  {
   "cell_type": "markdown",
   "id": "069458c2",
   "metadata": {},
   "source": [
    "#### 28. [미로 탐색](https://www.acmicpc.net/problem/2178)"
   ]
  },
  {
   "cell_type": "code",
   "execution_count": null,
   "id": "42ad5dce",
   "metadata": {},
   "outputs": [],
   "source": []
  },
  {
   "cell_type": "markdown",
   "id": "c54113da",
   "metadata": {},
   "source": [
    "#### 29. [1, 2, 3 더하기 5](https://www.acmicpc.net/problem/15990)"
   ]
  },
  {
   "cell_type": "code",
   "execution_count": null,
   "id": "225dc52a",
   "metadata": {},
   "outputs": [],
   "source": []
  },
  {
   "cell_type": "markdown",
   "id": "2d85645a",
   "metadata": {},
   "source": [
    "#### 30. [단어 길이 재기](https://www.acmicpc.net/problem/2743)"
   ]
  },
  {
   "cell_type": "code",
   "execution_count": null,
   "id": "c080836d",
   "metadata": {},
   "outputs": [],
   "source": []
  },
  {
   "cell_type": "markdown",
   "id": "00e61b6f",
   "metadata": {},
   "source": [
    "#### 31. [-2진수](https://www.acmicpc.net/problem/2089)"
   ]
  },
  {
   "cell_type": "code",
   "execution_count": null,
   "id": "4e489ead",
   "metadata": {},
   "outputs": [],
   "source": []
  },
  {
   "cell_type": "markdown",
   "id": "2c2b2700",
   "metadata": {},
   "source": [
    "#### 32. [사탕 게임](https://www.acmicpc.net/problem/3085)"
   ]
  },
  {
   "cell_type": "code",
   "execution_count": null,
   "id": "a495fd2d",
   "metadata": {},
   "outputs": [],
   "source": []
  },
  {
   "cell_type": "markdown",
   "id": "77faa753",
   "metadata": {},
   "source": [
    "#### 33. [쇠막대기](https://www.acmicpc.net/problem/10799)"
   ]
  },
  {
   "cell_type": "code",
   "execution_count": null,
   "id": "613af3c7",
   "metadata": {},
   "outputs": [],
   "source": []
  },
  {
   "cell_type": "markdown",
   "id": "c088d826",
   "metadata": {},
   "source": [
    "#### 34. [트리의 지름](https://www.acmicpc.net/problem/1167)"
   ]
  },
  {
   "cell_type": "code",
   "execution_count": null,
   "id": "d78a7588",
   "metadata": {},
   "outputs": [],
   "source": []
  },
  {
   "cell_type": "markdown",
   "id": "f5783066",
   "metadata": {},
   "source": [
    "#### 35. [링크와 스타트](https://www.acmicpc.net/problem/15661)"
   ]
  },
  {
   "cell_type": "code",
   "execution_count": null,
   "id": "e04df889",
   "metadata": {},
   "outputs": [],
   "source": []
  },
  {
   "cell_type": "markdown",
   "id": "8d1015b7",
   "metadata": {},
   "source": [
    "#### 36. [요세푸스 문제](https://www.acmicpc.net/problem/1158)"
   ]
  },
  {
   "cell_type": "code",
   "execution_count": null,
   "id": "d5c7f033",
   "metadata": {},
   "outputs": [],
   "source": []
  },
  {
   "cell_type": "markdown",
   "id": "62d6f404",
   "metadata": {},
   "source": [
    "#### 37. [단어 뒤집기 2](https://www.acmicpc.net/problem/17413)"
   ]
  },
  {
   "cell_type": "code",
   "execution_count": null,
   "id": "5322f265",
   "metadata": {},
   "outputs": [],
   "source": []
  },
  {
   "cell_type": "markdown",
   "id": "647ef505",
   "metadata": {},
   "source": [
    "#### 38. [가장 긴 감소하는 부분 수열](https://www.acmicpc.net/problem/11722)"
   ]
  },
  {
   "cell_type": "code",
   "execution_count": null,
   "id": "4c926883",
   "metadata": {},
   "outputs": [],
   "source": []
  },
  {
   "cell_type": "markdown",
   "id": "ee2955c4",
   "metadata": {},
   "source": [
    "#### 39. [알파벳 개수](https://www.acmicpc.net/problem/10808)"
   ]
  },
  {
   "cell_type": "code",
   "execution_count": null,
   "id": "86660023",
   "metadata": {},
   "outputs": [],
   "source": []
  },
  {
   "cell_type": "markdown",
   "id": "cd5f475b",
   "metadata": {},
   "source": [
    "#### 40. [DFS 스페셜 저지](https://www.acmicpc.net/problem/16964)"
   ]
  },
  {
   "cell_type": "code",
   "execution_count": null,
   "id": "85f4507f",
   "metadata": {},
   "outputs": [],
   "source": []
  },
  {
   "cell_type": "markdown",
   "id": "402b1588",
   "metadata": {},
   "source": [
    "#### 41. [2×n 타일링](https://www.acmicpc.net/problem/11726)"
   ]
  },
  {
   "cell_type": "code",
   "execution_count": null,
   "id": "6b41b690",
   "metadata": {},
   "outputs": [],
   "source": []
  },
  {
   "cell_type": "markdown",
   "id": "0b6de09f",
   "metadata": {},
   "source": [
    "#### 42. [가장 큰 증가 부분 수열](https://www.acmicpc.net/problem/11055)"
   ]
  },
  {
   "cell_type": "code",
   "execution_count": null,
   "id": "0ad7014d",
   "metadata": {},
   "outputs": [],
   "source": []
  },
  {
   "cell_type": "markdown",
   "id": "42eb9dc3",
   "metadata": {},
   "source": [
    "#### 43. [나이트의 이동](https://www.acmicpc.net/problem/7562)"
   ]
  },
  {
   "cell_type": "code",
   "execution_count": null,
   "id": "c4e1b4f4",
   "metadata": {},
   "outputs": [],
   "source": []
  },
  {
   "cell_type": "markdown",
   "id": "21e8055f",
   "metadata": {},
   "source": [
    "#### 44. [차이를 최대로](https://www.acmicpc.net/problem/10819)"
   ]
  },
  {
   "cell_type": "code",
   "execution_count": null,
   "id": "c7011df6",
   "metadata": {},
   "outputs": [],
   "source": []
  },
  {
   "cell_type": "markdown",
   "id": "e878b2b0",
   "metadata": {},
   "source": [
    "#### 45. [골드바흐의 추측](https://www.acmicpc.net/problem/6588)"
   ]
  },
  {
   "cell_type": "code",
   "execution_count": null,
   "id": "33359ad8",
   "metadata": {},
   "outputs": [],
   "source": []
  },
  {
   "cell_type": "markdown",
   "id": "d9e29b3c",
   "metadata": {},
   "source": [
    "#### 46. [퇴사](https://www.acmicpc.net/problem/14501)"
   ]
  },
  {
   "cell_type": "code",
   "execution_count": null,
   "id": "073d5fa2",
   "metadata": {},
   "outputs": [],
   "source": []
  },
  {
   "cell_type": "markdown",
   "id": "4a29569c",
   "metadata": {},
   "source": [
    "#### 47. [일곱 난쟁이](https://www.acmicpc.net/problem/2309)"
   ]
  },
  {
   "cell_type": "code",
   "execution_count": null,
   "id": "2cb3a2cf",
   "metadata": {},
   "outputs": [],
   "source": []
  },
  {
   "cell_type": "markdown",
   "id": "429aeea3",
   "metadata": {},
   "source": [
    "#### 48. [N과 M (9)](https://www.acmicpc.net/problem/15663)"
   ]
  },
  {
   "cell_type": "code",
   "execution_count": null,
   "id": "645a6662",
   "metadata": {},
   "outputs": [],
   "source": []
  },
  {
   "cell_type": "markdown",
   "id": "9cbd0299",
   "metadata": {},
   "source": [
    "#### 49. [암호 만들기](https://www.acmicpc.net/problem/1759)"
   ]
  },
  {
   "cell_type": "code",
   "execution_count": null,
   "id": "51b73c2f",
   "metadata": {},
   "outputs": [],
   "source": []
  },
  {
   "cell_type": "markdown",
   "id": "353fc8d0",
   "metadata": {},
   "source": [
    "#### 50. [에디터](https://www.acmicpc.net/problem/1406)"
   ]
  },
  {
   "cell_type": "code",
   "execution_count": null,
   "id": "59cf22df",
   "metadata": {},
   "outputs": [],
   "source": []
  },
  {
   "cell_type": "markdown",
   "id": "1a6a2de5",
   "metadata": {},
   "source": [
    "#### 51. [Two Dots](https://www.acmicpc.net/problem/16929)"
   ]
  },
  {
   "cell_type": "code",
   "execution_count": null,
   "id": "7875a51c",
   "metadata": {},
   "outputs": [],
   "source": []
  },
  {
   "cell_type": "markdown",
   "id": "8663b371",
   "metadata": {},
   "source": [
    "#### 52. [큐](https://www.acmicpc.net/problem/10845)"
   ]
  },
  {
   "cell_type": "code",
   "execution_count": null,
   "id": "90c57324",
   "metadata": {},
   "outputs": [],
   "source": []
  },
  {
   "cell_type": "markdown",
   "id": "a02feb25",
   "metadata": {},
   "source": [
    "#### 53. [트리의 지름](https://www.acmicpc.net/problem/1967)"
   ]
  },
  {
   "cell_type": "code",
   "execution_count": null,
   "id": "4670f0fa",
   "metadata": {},
   "outputs": [],
   "source": []
  },
  {
   "cell_type": "markdown",
   "id": "1d1ee64b",
   "metadata": {},
   "source": [
    "#### 54. [단지번호붙이기](https://www.acmicpc.net/problem/2667)"
   ]
  },
  {
   "cell_type": "code",
   "execution_count": null,
   "id": "47487d93",
   "metadata": {},
   "outputs": [],
   "source": []
  },
  {
   "cell_type": "markdown",
   "id": "34fe8d72",
   "metadata": {},
   "source": [
    "#### 55. [스타트와 링크](https://www.acmicpc.net/problem/14889)"
   ]
  },
  {
   "cell_type": "code",
   "execution_count": null,
   "id": "442c4746",
   "metadata": {},
   "outputs": [],
   "source": []
  },
  {
   "cell_type": "markdown",
   "id": "560a25d6",
   "metadata": {},
   "source": [
    "#### 56. [1로 만들기](https://www.acmicpc.net/problem/1463)"
   ]
  },
  {
   "cell_type": "code",
   "execution_count": null,
   "id": "dc6f8ac6",
   "metadata": {},
   "outputs": [],
   "source": []
  },
  {
   "cell_type": "markdown",
   "id": "cc762ac7",
   "metadata": {},
   "source": [
    "#### 57. [괄호](https://www.acmicpc.net/problem/9012)"
   ]
  },
  {
   "cell_type": "code",
   "execution_count": null,
   "id": "59f0950d",
   "metadata": {},
   "outputs": [],
   "source": []
  },
  {
   "cell_type": "markdown",
   "id": "4a391e89",
   "metadata": {},
   "source": [
    "#### 58. [최소공배수](https://www.acmicpc.net/problem/1934)"
   ]
  },
  {
   "cell_type": "code",
   "execution_count": null,
   "id": "f0761f89",
   "metadata": {},
   "outputs": [],
   "source": []
  },
  {
   "cell_type": "markdown",
   "id": "40f2cef7",
   "metadata": {},
   "source": [
    "#### 59. [오큰수](https://www.acmicpc.net/problem/17298)"
   ]
  },
  {
   "cell_type": "code",
   "execution_count": null,
   "id": "dda9b5d3",
   "metadata": {},
   "outputs": [],
   "source": []
  },
  {
   "cell_type": "markdown",
   "id": "d69bad57",
   "metadata": {},
   "source": [
    "#### 60. [후위 표기식2](https://www.acmicpc.net/problem/1935)"
   ]
  },
  {
   "cell_type": "code",
   "execution_count": null,
   "id": "3e3e18dc",
   "metadata": {},
   "outputs": [],
   "source": []
  },
  {
   "cell_type": "markdown",
   "id": "7096ca2b",
   "metadata": {},
   "source": [
    "#### 61. [진법 변환 2](https://www.acmicpc.net/problem/11005)"
   ]
  },
  {
   "cell_type": "code",
   "execution_count": null,
   "id": "127faf03",
   "metadata": {},
   "outputs": [],
   "source": []
  },
  {
   "cell_type": "markdown",
   "id": "63072dd0",
   "metadata": {},
   "source": [
    "#### 62. [소수 찾기](https://www.acmicpc.net/problem/1978)"
   ]
  },
  {
   "cell_type": "code",
   "execution_count": null,
   "id": "0d540305",
   "metadata": {},
   "outputs": [],
   "source": []
  },
  {
   "cell_type": "markdown",
   "id": "8b0e28a2",
   "metadata": {},
   "source": [
    "#### 63. [접미사 배열](https://www.acmicpc.net/problem/11656)"
   ]
  },
  {
   "cell_type": "code",
   "execution_count": null,
   "id": "ebca77f0",
   "metadata": {},
   "outputs": [],
   "source": []
  },
  {
   "cell_type": "markdown",
   "id": "16576e4f",
   "metadata": {},
   "source": [
    "#### 64. [숨바꼭질 4](https://www.acmicpc.net/problem/13913)"
   ]
  },
  {
   "cell_type": "code",
   "execution_count": null,
   "id": "fa96f433",
   "metadata": {},
   "outputs": [],
   "source": []
  },
  {
   "cell_type": "markdown",
   "id": "c4b0d1e3",
   "metadata": {},
   "source": [
    "#### 65. [골드바흐 파티션](https://www.acmicpc.net/problem/17103)"
   ]
  },
  {
   "cell_type": "code",
   "execution_count": null,
   "id": "c8d52f60",
   "metadata": {},
   "outputs": [],
   "source": []
  },
  {
   "cell_type": "markdown",
   "id": "5b9ea228",
   "metadata": {},
   "source": [
    "#### 66. [Guess](https://www.acmicpc.net/problem/1248)"
   ]
  },
  {
   "cell_type": "code",
   "execution_count": null,
   "id": "96fcaef3",
   "metadata": {},
   "outputs": [],
   "source": []
  },
  {
   "cell_type": "markdown",
   "id": "51502b5d",
   "metadata": {},
   "source": [
    "#### 67. [이모티콘](https://www.acmicpc.net/problem/14226)"
   ]
  },
  {
   "cell_type": "code",
   "execution_count": null,
   "id": "52ccbdb0",
   "metadata": {},
   "outputs": [],
   "source": []
  },
  {
   "cell_type": "markdown",
   "id": "2292a5b2",
   "metadata": {},
   "source": [
    "#### 68. [숨바꼭질 3](https://www.acmicpc.net/problem/13549)"
   ]
  },
  {
   "cell_type": "code",
   "execution_count": null,
   "id": "76e99085",
   "metadata": {},
   "outputs": [],
   "source": []
  },
  {
   "cell_type": "markdown",
   "id": "e4213799",
   "metadata": {},
   "source": [
    "#### 69. [N과 M (11)](https://www.acmicpc.net/problem/15665)"
   ]
  },
  {
   "cell_type": "code",
   "execution_count": null,
   "id": "4076ecda",
   "metadata": {},
   "outputs": [],
   "source": []
  },
  {
   "cell_type": "markdown",
   "id": "1fced000",
   "metadata": {},
   "source": [
    "#### 70. [소수 구하기](https://www.acmicpc.net/problem/1929)"
   ]
  },
  {
   "cell_type": "code",
   "execution_count": null,
   "id": "ab4973bd",
   "metadata": {},
   "outputs": [],
   "source": []
  },
  {
   "cell_type": "markdown",
   "id": "36add82d",
   "metadata": {},
   "source": [
    "#### 71. [진법 변환](https://www.acmicpc.net/problem/2745)"
   ]
  },
  {
   "cell_type": "code",
   "execution_count": null,
   "id": "4900956c",
   "metadata": {},
   "outputs": [],
   "source": []
  },
  {
   "cell_type": "markdown",
   "id": "9c4207a2",
   "metadata": {},
   "source": [
    "#### 72. [N과 M (10)](https://www.acmicpc.net/problem/15664)"
   ]
  },
  {
   "cell_type": "code",
   "execution_count": null,
   "id": "91d632da",
   "metadata": {},
   "outputs": [],
   "source": []
  },
  {
   "cell_type": "markdown",
   "id": "b905e87c",
   "metadata": {},
   "source": [
    "#### 73. [팩토리얼](https://www.acmicpc.net/problem/10872)"
   ]
  },
  {
   "cell_type": "code",
   "execution_count": null,
   "id": "58a68bc1",
   "metadata": {},
   "outputs": [],
   "source": []
  },
  {
   "cell_type": "markdown",
   "id": "41c06bc2",
   "metadata": {},
   "source": [
    "#### 74. [이친수](https://www.acmicpc.net/problem/2193)"
   ]
  },
  {
   "cell_type": "code",
   "execution_count": null,
   "id": "55a996f6",
   "metadata": {},
   "outputs": [],
   "source": []
  },
  {
   "cell_type": "markdown",
   "id": "2e73829c",
   "metadata": {},
   "source": [
    "#### 75. [N과 M (8)](https://www.acmicpc.net/problem/15657)"
   ]
  },
  {
   "cell_type": "code",
   "execution_count": null,
   "id": "0e0431a3",
   "metadata": {},
   "outputs": [],
   "source": []
  },
  {
   "cell_type": "markdown",
   "id": "a2e5927f",
   "metadata": {},
   "source": [
    "#### 76. [스티커](https://www.acmicpc.net/problem/9465)"
   ]
  },
  {
   "cell_type": "code",
   "execution_count": null,
   "id": "af4d6f12",
   "metadata": {},
   "outputs": [],
   "source": []
  },
  {
   "cell_type": "markdown",
   "id": "09766643",
   "metadata": {},
   "source": [
    "#### 77. [ABCDE](https://www.acmicpc.net/problem/13023)"
   ]
  },
  {
   "cell_type": "code",
   "execution_count": null,
   "id": "c7a655d0",
   "metadata": {},
   "outputs": [],
   "source": []
  },
  {
   "cell_type": "markdown",
   "id": "20d44754",
   "metadata": {},
   "source": [
    "#### 78. [N과 M (1)](https://www.acmicpc.net/problem/15649)"
   ]
  },
  {
   "cell_type": "code",
   "execution_count": null,
   "id": "ce883ee4",
   "metadata": {},
   "outputs": [],
   "source": []
  },
  {
   "cell_type": "markdown",
   "id": "3b57ab89",
   "metadata": {},
   "source": [
    "#### 79. [RGB거리 2](https://www.acmicpc.net/problem/17404)"
   ]
  },
  {
   "cell_type": "code",
   "execution_count": null,
   "id": "3d4c358f",
   "metadata": {},
   "outputs": [],
   "source": []
  },
  {
   "cell_type": "markdown",
   "id": "1717d9c9",
   "metadata": {},
   "source": [
    "#### 80. [N과 M (12)](https://www.acmicpc.net/problem/15666)"
   ]
  },
  {
   "cell_type": "code",
   "execution_count": null,
   "id": "b3e100b0",
   "metadata": {},
   "outputs": [],
   "source": []
  },
  {
   "cell_type": "markdown",
   "id": "b274c1af",
   "metadata": {},
   "source": [
    "#### 81. [정수 삼각형](https://www.acmicpc.net/problem/1932)"
   ]
  },
  {
   "cell_type": "code",
   "execution_count": null,
   "id": "ee05fd1d",
   "metadata": {},
   "outputs": [],
   "source": []
  },
  {
   "cell_type": "markdown",
   "id": "091a7e44",
   "metadata": {},
   "source": [
    "#### 82. [서울 지하철 2호선](https://www.acmicpc.net/problem/16947)"
   ]
  },
  {
   "cell_type": "code",
   "execution_count": null,
   "id": "256f2ae2",
   "metadata": {},
   "outputs": [],
   "source": []
  },
  {
   "cell_type": "markdown",
   "id": "4d9377a4",
   "metadata": {},
   "source": [
    "#### 83. [종이 조각](https://www.acmicpc.net/problem/14391)"
   ]
  },
  {
   "cell_type": "code",
   "execution_count": null,
   "id": "0c01efcf",
   "metadata": {},
   "outputs": [],
   "source": []
  },
  {
   "cell_type": "markdown",
   "id": "be6ef1d2",
   "metadata": {},
   "source": [
    "#### 84. [연속합](https://www.acmicpc.net/problem/1912)"
   ]
  },
  {
   "cell_type": "code",
   "execution_count": null,
   "id": "d0b75721",
   "metadata": {},
   "outputs": [],
   "source": []
  },
  {
   "cell_type": "markdown",
   "id": "f33d2717",
   "metadata": {},
   "source": [
    "#### 85. [후위 표기식](https://www.acmicpc.net/problem/1918)"
   ]
  },
  {
   "cell_type": "code",
   "execution_count": null,
   "id": "c84f97f8",
   "metadata": {},
   "outputs": [],
   "source": []
  },
  {
   "cell_type": "markdown",
   "id": "44520b31",
   "metadata": {},
   "source": [
    "#### 86. [팩토리얼 0의 개수](https://www.acmicpc.net/problem/1676)"
   ]
  },
  {
   "cell_type": "code",
   "execution_count": null,
   "id": "f60c245d",
   "metadata": {},
   "outputs": [],
   "source": []
  },
  {
   "cell_type": "markdown",
   "id": "845836cd",
   "metadata": {},
   "source": [
    "#### 87. [포도주 시식](https://www.acmicpc.net/problem/2156)"
   ]
  },
  {
   "cell_type": "code",
   "execution_count": null,
   "id": "cac82e44",
   "metadata": {},
   "outputs": [],
   "source": []
  },
  {
   "cell_type": "markdown",
   "id": "11454519",
   "metadata": {},
   "source": [
    "#### 88. [2×n 타일링 2](https://www.acmicpc.net/problem/11727)"
   ]
  },
  {
   "cell_type": "code",
   "execution_count": null,
   "id": "f6cfcce6",
   "metadata": {},
   "outputs": [],
   "source": []
  },
  {
   "cell_type": "markdown",
   "id": "07b49f11",
   "metadata": {},
   "source": [
    "#### 89. [소인수분해](https://www.acmicpc.net/problem/11653)"
   ]
  },
  {
   "cell_type": "code",
   "execution_count": null,
   "id": "a170d131",
   "metadata": {},
   "outputs": [],
   "source": []
  },
  {
   "cell_type": "markdown",
   "id": "a108ec68",
   "metadata": {},
   "source": [
    "#### 90. [N과 M (5)](https://www.acmicpc.net/problem/15654)"
   ]
  },
  {
   "cell_type": "code",
   "execution_count": null,
   "id": "611c8269",
   "metadata": {},
   "outputs": [],
   "source": []
  },
  {
   "cell_type": "markdown",
   "id": "fc1e5b22",
   "metadata": {},
   "source": [
    "#### 91. [ROT13](https://www.acmicpc.net/problem/11655)"
   ]
  },
  {
   "cell_type": "code",
   "execution_count": null,
   "id": "d996e263",
   "metadata": {},
   "outputs": [],
   "source": []
  },
  {
   "cell_type": "markdown",
   "id": "3ea50088",
   "metadata": {},
   "source": [
    "#### 92. [집합](https://www.acmicpc.net/problem/11723)"
   ]
  },
  {
   "cell_type": "code",
   "execution_count": null,
   "id": "788cb725",
   "metadata": {},
   "outputs": [],
   "source": []
  },
  {
   "cell_type": "markdown",
   "id": "ad46805d",
   "metadata": {},
   "source": [
    "#### 93. [BFS 스페셜 저지](https://www.acmicpc.net/problem/16940)"
   ]
  },
  {
   "cell_type": "code",
   "execution_count": null,
   "id": "c2ee0984",
   "metadata": {},
   "outputs": [],
   "source": []
  },
  {
   "cell_type": "markdown",
   "id": "0b40caf3",
   "metadata": {},
   "source": [
    "#### 94. [GCD 합](https://www.acmicpc.net/problem/9613)"
   ]
  },
  {
   "cell_type": "code",
   "execution_count": null,
   "id": "8b988252",
   "metadata": {},
   "outputs": [],
   "source": []
  },
  {
   "cell_type": "markdown",
   "id": "f16b57af",
   "metadata": {},
   "source": [
    "#### 95. [다리 만들기](https://www.acmicpc.net/problem/2146)"
   ]
  },
  {
   "cell_type": "code",
   "execution_count": null,
   "id": "a591f407",
   "metadata": {},
   "outputs": [],
   "source": []
  },
  {
   "cell_type": "markdown",
   "id": "86c882d8",
   "metadata": {},
   "source": [
    "#### 96. [쉬운 계단 수](https://www.acmicpc.net/problem/10844)"
   ]
  },
  {
   "cell_type": "code",
   "execution_count": null,
   "id": "2d2df586",
   "metadata": {},
   "outputs": [],
   "source": []
  },
  {
   "cell_type": "markdown",
   "id": "568cc512",
   "metadata": {},
   "source": [
    "#### 97. [외판원 순회 2](https://www.acmicpc.net/problem/10971)"
   ]
  },
  {
   "cell_type": "code",
   "execution_count": null,
   "id": "0156719b",
   "metadata": {},
   "outputs": [],
   "source": []
  },
  {
   "cell_type": "markdown",
   "id": "d37db83f",
   "metadata": {},
   "source": [
    "#### 98. [카드 구매하기 2](https://www.acmicpc.net/problem/16194)"
   ]
  },
  {
   "cell_type": "code",
   "execution_count": null,
   "id": "9d5917e5",
   "metadata": {},
   "outputs": [],
   "source": []
  },
  {
   "cell_type": "markdown",
   "id": "e302bb34",
   "metadata": {},
   "source": [
    "#### 99. [1, 2, 3 더하기 3](https://www.acmicpc.net/problem/15988)"
   ]
  },
  {
   "cell_type": "code",
   "execution_count": null,
   "id": "a38ea9db",
   "metadata": {},
   "outputs": [],
   "source": []
  },
  {
   "cell_type": "markdown",
   "id": "161a2ee3",
   "metadata": {},
   "source": [
    "#### 100. [토마토](https://www.acmicpc.net/problem/7576)"
   ]
  },
  {
   "cell_type": "code",
   "execution_count": null,
   "id": "866d5ac1",
   "metadata": {},
   "outputs": [],
   "source": []
  },
  {
   "cell_type": "markdown",
   "id": "57aa3ced",
   "metadata": {},
   "source": [
    "#### 101. [이분 그래프](https://www.acmicpc.net/problem/1707)"
   ]
  },
  {
   "cell_type": "code",
   "execution_count": null,
   "id": "9d169914",
   "metadata": {},
   "outputs": [],
   "source": []
  },
  {
   "cell_type": "markdown",
   "id": "b41a2288",
   "metadata": {},
   "source": [
    "#### 102. [N과 M (6)](https://www.acmicpc.net/problem/15655)"
   ]
  },
  {
   "cell_type": "code",
   "execution_count": null,
   "id": "81b9649d",
   "metadata": {},
   "outputs": [],
   "source": []
  },
  {
   "cell_type": "markdown",
   "id": "dcf9ce9b",
   "metadata": {},
   "source": [
    "#### 103. [가장 긴 증가하는 부분 수열 4](https://www.acmicpc.net/problem/14002)"
   ]
  },
  {
   "cell_type": "code",
   "execution_count": null,
   "id": "b493bc89",
   "metadata": {},
   "outputs": [],
   "source": []
  },
  {
   "cell_type": "markdown",
   "id": "58ad6cd7",
   "metadata": {},
   "source": [
    "#### 104. [모든 순열](https://www.acmicpc.net/problem/10974)"
   ]
  },
  {
   "cell_type": "code",
   "execution_count": null,
   "id": "1b6599e8",
   "metadata": {},
   "outputs": [],
   "source": []
  },
  {
   "cell_type": "markdown",
   "id": "2fda6d79",
   "metadata": {},
   "source": [
    "#### 105. [네 수](https://www.acmicpc.net/problem/10824)"
   ]
  },
  {
   "cell_type": "code",
   "execution_count": null,
   "id": "7526d12d",
   "metadata": {},
   "outputs": [],
   "source": []
  },
  {
   "cell_type": "markdown",
   "id": "a1069270",
   "metadata": {},
   "source": [
    "#### 106. [조합 0의 개수](https://www.acmicpc.net/problem/2004)"
   ]
  },
  {
   "cell_type": "code",
   "execution_count": null,
   "id": "164b6b21",
   "metadata": {},
   "outputs": [],
   "source": []
  },
  {
   "cell_type": "markdown",
   "id": "0189fe36",
   "metadata": {},
   "source": [
    "#### 107. [카드 구매하기](https://www.acmicpc.net/problem/11052)"
   ]
  },
  {
   "cell_type": "code",
   "execution_count": null,
   "id": "341aaea4",
   "metadata": {},
   "outputs": [],
   "source": []
  },
  {
   "cell_type": "markdown",
   "id": "df33a8bc",
   "metadata": {},
   "source": [
    "#### 108. [리모컨](https://www.acmicpc.net/problem/1107)"
   ]
  },
  {
   "cell_type": "code",
   "execution_count": null,
   "id": "d42275cf",
   "metadata": {},
   "outputs": [],
   "source": []
  },
  {
   "cell_type": "markdown",
   "id": "1e0338da",
   "metadata": {},
   "source": [
    "#### 109. [타일 채우기](https://www.acmicpc.net/problem/2133)"
   ]
  },
  {
   "cell_type": "code",
   "execution_count": null,
   "id": "9e502f43",
   "metadata": {},
   "outputs": [],
   "source": []
  },
  {
   "cell_type": "markdown",
   "id": "72c3f478",
   "metadata": {},
   "source": [
    "#### 110. [1, 2, 3 더하기](https://www.acmicpc.net/problem/9095)"
   ]
  },
  {
   "cell_type": "code",
   "execution_count": null,
   "id": "4cbacdea",
   "metadata": {},
   "outputs": [],
   "source": []
  },
  {
   "cell_type": "markdown",
   "id": "f41dedf0",
   "metadata": {},
   "source": [
    "#### 111. [덱](https://www.acmicpc.net/problem/10866)"
   ]
  },
  {
   "cell_type": "code",
   "execution_count": null,
   "id": "7eada5cc",
   "metadata": {},
   "outputs": [],
   "source": []
  },
  {
   "cell_type": "markdown",
   "id": "dc171ee9",
   "metadata": {},
   "source": [
    "#### 112. [오등큰수](https://www.acmicpc.net/problem/17299)"
   ]
  },
  {
   "cell_type": "code",
   "execution_count": null,
   "id": "bac670a3",
   "metadata": {},
   "outputs": [],
   "source": []
  },
  {
   "cell_type": "markdown",
   "id": "af9a05c3",
   "metadata": {},
   "source": [
    "#### 113. [문자열 분석](https://www.acmicpc.net/problem/10820)"
   ]
  },
  {
   "cell_type": "code",
   "execution_count": null,
   "id": "c85b6c2d",
   "metadata": {},
   "outputs": [],
   "source": []
  },
  {
   "cell_type": "markdown",
   "id": "1260446c",
   "metadata": {},
   "source": [
    "#### 114. [가장 긴 바이토닉 부분 수열](https://www.acmicpc.net/problem/11054)"
   ]
  },
  {
   "cell_type": "code",
   "execution_count": null,
   "id": "b0a7ce8c",
   "metadata": {},
   "outputs": [],
   "source": []
  },
  {
   "cell_type": "markdown",
   "id": "15ead2bc",
   "metadata": {},
   "source": [
    "#### 115. [트리의 부모 찾기](https://www.acmicpc.net/problem/11725)"
   ]
  },
  {
   "cell_type": "code",
   "execution_count": null,
   "id": "1785284f",
   "metadata": {},
   "outputs": [],
   "source": []
  },
  {
   "cell_type": "markdown",
   "id": "0d8df732",
   "metadata": {},
   "source": [
    "#### 116. [날짜 계산](https://www.acmicpc.net/problem/1476)"
   ]
  },
  {
   "cell_type": "code",
   "execution_count": null,
   "id": "40a59cc7",
   "metadata": {},
   "outputs": [],
   "source": []
  },
  {
   "cell_type": "markdown",
   "id": "b33ea96e",
   "metadata": {},
   "source": [
    "#### 117. [스택 수열](https://www.acmicpc.net/problem/1874)"
   ]
  },
  {
   "cell_type": "code",
   "execution_count": null,
   "id": "9438adc0",
   "metadata": {},
   "outputs": [],
   "source": []
  },
  {
   "cell_type": "markdown",
   "id": "36aa6d15",
   "metadata": {},
   "source": [
    "#### 118. [N과 M (4)](https://www.acmicpc.net/problem/15652)"
   ]
  },
  {
   "cell_type": "code",
   "execution_count": null,
   "id": "41d49cba",
   "metadata": {},
   "outputs": [],
   "source": []
  },
  {
   "cell_type": "markdown",
   "id": "860e0b5d",
   "metadata": {},
   "source": [
    "#### 119. [다음 순열](https://www.acmicpc.net/problem/10972)"
   ]
  },
  {
   "cell_type": "code",
   "execution_count": null,
   "id": "d9188fb8",
   "metadata": {},
   "outputs": [],
   "source": []
  },
  {
   "cell_type": "markdown",
   "id": "34977d0c",
   "metadata": {},
   "source": [
    "#### 120. [수 이어 쓰기 1](https://www.acmicpc.net/problem/1748)"
   ]
  },
  {
   "cell_type": "code",
   "execution_count": null,
   "id": "d3a70654",
   "metadata": {},
   "outputs": [],
   "source": []
  },
  {
   "cell_type": "markdown",
   "id": "30b7107e",
   "metadata": {},
   "source": [
    "#### 121. [오르막 수](https://www.acmicpc.net/problem/11057)"
   ]
  },
  {
   "cell_type": "code",
   "execution_count": null,
   "id": "6ee7c224",
   "metadata": {},
   "outputs": [],
   "source": []
  },
  {
   "cell_type": "markdown",
   "id": "06908d09",
   "metadata": {},
   "source": [
    "#### 122. [합분해](https://www.acmicpc.net/problem/2225)"
   ]
  },
  {
   "cell_type": "code",
   "execution_count": null,
   "id": "458e2e19",
   "metadata": {},
   "outputs": [],
   "source": []
  },
  {
   "cell_type": "markdown",
   "id": "b35f917e",
   "metadata": {},
   "source": [
    "#### 123. [테트로미노](https://www.acmicpc.net/problem/14500)"
   ]
  },
  {
   "cell_type": "code",
   "execution_count": null,
   "id": "3faa9a75",
   "metadata": {},
   "outputs": [],
   "source": []
  },
  {
   "cell_type": "markdown",
   "id": "e5150fc3",
   "metadata": {},
   "source": [
    "#### 124. [단어 뒤집기](https://www.acmicpc.net/problem/9093)"
   ]
  },
  {
   "cell_type": "code",
   "execution_count": null,
   "id": "9df6c042",
   "metadata": {},
   "outputs": [],
   "source": []
  },
  {
   "cell_type": "markdown",
   "id": "60c0e0eb",
   "metadata": {},
   "source": [
    "#### 125. [최대공약수와 최소공배수](https://www.acmicpc.net/problem/2609)"
   ]
  },
  {
   "cell_type": "code",
   "execution_count": null,
   "id": "7c2612e4",
   "metadata": {},
   "outputs": [],
   "source": []
  }
 ],
 "metadata": {
  "kernelspec": {
   "display_name": "Python 3.8.10 64-bit",
   "language": "python",
   "name": "python3"
  },
  "language_info": {
   "codemirror_mode": {
    "name": "ipython",
    "version": 3
   },
   "file_extension": ".py",
   "mimetype": "text/x-python",
   "name": "python",
   "nbconvert_exporter": "python",
   "pygments_lexer": "ipython3",
   "version": "3.8.10"
  },
  "vscode": {
   "interpreter": {
    "hash": "916dbcbb3f70747c44a77c7bcd40155683ae19c65e1c03b4aa3499c5328201f1"
   }
  }
 },
 "nbformat": 4,
 "nbformat_minor": 5
}
